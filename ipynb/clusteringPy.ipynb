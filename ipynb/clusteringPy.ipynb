{
  "cells": [
    {
      "cell_type": "markdown",
      "metadata": {},
      "source": [
        "# Lab in Python {#sec-clusteringlabPy .unnumbered}\n",
        "\n",
        "We will start by loading the necessary libraries:"
      ]
    },
    {
      "cell_type": "code",
      "metadata": {},
      "source": [
        "import seaborn as sns\n",
        "import pandas as pd\n",
        "from pysal.lib import weights\n",
        "import geopandas as gpd\n",
        "import contextily as cx\n",
        "import numpy as np\n",
        "import matplotlib.pyplot as plt\n",
        "from sklearn import cluster"
      ],
      "execution_count": null,
      "outputs": []
    },
    {
      "cell_type": "markdown",
      "metadata": {},
      "source": [
        "## Data\n",
        "\n",
        "The dataset we will use in this occasion is an extract from the online website [AirBnb](www.airbnb.com). AirBnb is a company that provides a meeting point for people looking for an alternative to a hotel when they visit a city, and locals who want to rent (part of) their house to make some extra money. The website has a continuously updated list of all the available properties in a given city that customers can check and book through. In addition, the website also provides a feedback mechanism by which both ends, hosts and guests, can rate their experience. Aggregating ratings from guests about the properties where they have stayed, AirBnb provides additional information for every property, such as an overall cleanliness score or an index of how good the host is at communicating with the guests.\n",
        "\n",
        "The original data are provided at the property level and for the whole of London. However, since the total number of properties is very large for the purposes of this notebook, they have been aggregated at the Middle Super Output Area (MSOA), a geographical unit created by the Office of National Statistics. Although the original source contains information for the Greater London, the vast majority of properties are located in Inner London, so the data we will use is restricted to that extent. Even in this case, not every polygon has at least one property. To avoid cases of missing values, the final dataset only contains those MSOAs with at least one property, so there can be average ratings associated with them.\n",
        "\n",
        "Our goal in this notebook is to create a classification of areas (MSOAs) in Inner London based on the ratings of the AirBnb locations. This will allow us to create a typology for the geography of AirBnb in London and, to the extent the AirBnb locations can say something about the areas where they are located, the classification will help us understand the geography of residential London a bit better. This dataset is a good example of the kind of analyses that the data revolution is making possible as, only a few years ago, it would have been very hard to obtain a similarly large survey of properties with ratings like this one. On the other hand, it is important to keep in mind the biases that these data are subject to and thus the limitations in terms of generalising findings to the general population. In any case, this dataset is a great example to learn about statistical clustering of spatial observations, both in a geodemographic analysis as well as in a regionalisation.\n",
        "\n",
        "Let's start by loading the main table of MSOAs:"
      ]
    },
    {
      "cell_type": "code",
      "metadata": {},
      "source": [
        "# Read the file in\n",
        "abb = gpd.read_file(\n",
        "    \"./data/London/Polygons/london_abb.gpkg\"\n",
        ")"
      ],
      "execution_count": null,
      "outputs": []
    },
    {
      "cell_type": "code",
      "metadata": {},
      "source": [
        "# Inspect the structure of the table\n",
        "abb.info()"
      ],
      "execution_count": null,
      "outputs": []
    },
    {
      "cell_type": "markdown",
      "metadata": {},
      "source": [
        "Before we jump into exploring the data, one additional step that will come in handy down the line. Not every variable in the table is an attribute that we will want for the clustering. In particular, we are interested in review ratings, so we will only consider those. Hence, let us first manually write them in a vector called `ratings` so they are easier to subset. We also save names for each of the variables in `ratings` so we can print them out nicely later on:"
      ]
    },
    {
      "cell_type": "code",
      "metadata": {},
      "source": [
        "ratings = [\n",
        "    'review_scores_rating', \n",
        "    'review_scores_accuracy', \n",
        "    'review_scores_cleanliness', \n",
        "    'review_scores_checkin', \n",
        "    'review_scores_communication',\n",
        "    'review_scores_location',\n",
        "    'review_scores_value'\n",
        "]\n",
        "\n",
        "\n",
        "ratings_names = [\n",
        "    'Overall',        # Assigns more descriptive names to the corresponding review score types.\n",
        "    'Accuracy', \n",
        "    'Cleanliness', \n",
        "    'Checkin', \n",
        "    'Communication',\n",
        "    'Location',\n",
        "    'Value'\n",
        "]"
      ],
      "execution_count": null,
      "outputs": []
    },
    {
      "cell_type": "markdown",
      "metadata": {},
      "source": [
        "At the end of this computational notebook, we will also use the administrative boroughs. Let's load them in so they are ready when we need them."
      ]
    },
    {
      "cell_type": "code",
      "metadata": {},
      "source": [
        "boroughs = gpd.read_file(\"./data/London/Polygons/london_inner_boroughs.geojson\")"
      ],
      "execution_count": null,
      "outputs": []
    },
    {
      "cell_type": "markdown",
      "metadata": {},
      "source": [
        "Note that, in comparison to previous datasets, this one is provided in a new format, `.geojson`. GeoJSON files are a plain text file (you can open it on any text editor and see its contents) that follows the structure of the JSON format, widely used to exchange information over the web, adapted for geographic data, hence the `geo` at the front. GeoJSON files have gained much popularity with the rise of web mapping and are quickly becoming a de-facto standard for small datasets because they are readable by humans and by many different platforms. As you can see above, reading them in Python is exactly the same as reading a shapefile, for example.\n",
        "\n",
        "## Getting to know the data\n",
        "\n",
        "The best way to start exploring the geography of AirBnb ratings is by plotting each of them into a different map. This will give us a univariate perspective on each of the variables we are interested in.\n",
        "\n",
        "Since we have many variables to plot, we will create a loop that generates each map for us and places it on a \"subplot\" of the main figure. Given that before we saved the names of the variables of interest as a vector called `ratings`, we can now make use of this to write a simpler for-loop:"
      ]
    },
    {
      "cell_type": "code",
      "metadata": {},
      "source": [
        "# Create figure and axes (this time it's 9, arranged 3 by 3)\n",
        "f, axs = plt.subplots(nrows=3, ncols=3, figsize=(7, 7))\n",
        "# Make the axes accessible with single indexing\n",
        "axs = axs.flatten()\n",
        "# Start the loop over all the variables of interest\n",
        "for i, col in enumerate(ratings):\n",
        "    # select the axis where the map will go\n",
        "    ax = axs[i]\n",
        "    # Plot the map\n",
        "    abb.plot(\n",
        "        column=col, \n",
        "        ax=ax, \n",
        "        scheme='Quantiles',\n",
        "        linewidth=0, \n",
        "        cmap='Blues', \n",
        "        alpha=0.75\n",
        "    )\n",
        "    # Remove axis clutter\n",
        "    ax.set_axis_off()\n",
        "    # Set the axis title to the name of variable being plotted\n",
        "    ax.set_title(ratings_names[i])\n",
        "\n",
        "# Turn off axes for any remaining empty subplots (in this case, the last two)\n",
        "for j in range(i+1, len(axs)):\n",
        "    axs[j].set_visible(False)\n",
        "\n",
        "\n",
        "# Display the figure\n",
        "plt.show()"
      ],
      "execution_count": null,
      "outputs": []
    },
    {
      "cell_type": "markdown",
      "metadata": {},
      "source": [
        "Before we delve into the substantive interpretation of the map, let us walk through the process of creating the figure above, which involves several subplots inside the same figure:\n",
        "\n",
        "-  First we set the number of rows and columns we want for the grid of subplots.\n",
        "-  The resulting object, axs, is not a single one but a grid (or array) of axis. Because of this, we can’t plot directly on axs, but instead we need access each individual axis.\n",
        "-  To make that step easier, we unpack the grid into a flat list (array) for the axes of each subplot with flatten.\n",
        "-  At this point, we set up a for loop to plot a map in each of the subplots.\n",
        "-  Within the loop, we extract the axis, plot the choropleth on it and style the map.\n",
        "-  Set the last two sets of axis invisible.\n",
        "-  Display the figure.\n",
        "\n",
        "As we can see, there is substantial variation in how the ratings for different aspects are distributed over space. While variables like the overall rating or the communication with the host tend to higher in peripheral areas, others like the location score are more concentrated in the city centre.\n",
        "\n",
        "Even though we only have seven variables, it is very hard to “mentally overlay” all of them to come up with an overall assessment of the nature of each part of London. For bivariate correlations, a useful tool is the correlation matrix plot, available in `seaborn`:"
      ]
    },
    {
      "cell_type": "code",
      "metadata": {},
      "source": [
        "pairplot = sns.pairplot(abb[ratings], kind='reg', diag_kind='hist', height=1)\n",
        "\n",
        "# Iterate over each subplot in the pairplot to customize axis labels and ticks\n",
        "for i in range(len(ratings_names)):  # Loop over each row of subplots\n",
        "    for j in range(len(ratings_names)):  # Loop over each column of subplots\n",
        "        # Set the axes label to the corresponding name from ratings_names, with font size 6\n",
        "        pairplot.axes[i][j].set_xlabel(ratings_names[j], fontsize=6)\n",
        "        pairplot.axes[i][j].set_ylabel(ratings_names[i], fontsize=6)\n",
        "        # Adjust the tick parameters to set the label size to 6 for both axes\n",
        "        pairplot.axes[i][j].tick_params(axis='both', which='major', labelsize=6)\n",
        "\n",
        "# Fine-tune the layout of the subplots using subplots_adjust\n",
        "plt.subplots_adjust(top=0.95, bottom=0.1, left=0.1, right=0.95)\n",
        "\n",
        "plt.show()"
      ],
      "execution_count": null,
      "outputs": []
    },
    {
      "cell_type": "markdown",
      "metadata": {},
      "source": [
        "The above plot is helpful to consider uni and bivariate questions such as: what is the relationship between the overall rating and location scores? (Positive) Are the overall ratings more correlated with location or with cleanliness? (Cleanliness). However, sometimes, this is not enough and we are interested in more sophisticated questions that are truly multivariate and, in these cases, the figure above cannot help us. For example, it is not straightforward to answer questions like: what are the main characteristics of the South of London? What areas are similar to the core of the city? Are the East and West of London similar in terms of the kind of AirBnb properties you can find in them? For these kinds of multi-dimensional questions -involving multiple variables at the same time- we require a truly multidimensional method like statistical clustering.\n",
        "\n",
        "## An AirBnb geodemographic classification of Inner London using K-means\n",
        "\n",
        "A geodemographic analysis involves the classification of the areas that make up a greographical map into groups or categories of observations that are similar within each other but different between them. The classification is carried out using a statistical clustering algorithm that takes as input a set of attributes and returns the group (\"labels\" in the terminology) each observation belongs to. Depending on the particular algorithm employed, additional parameters, such as the desired number of clusters employed or more advanced tuning parameters (e.g. bandwith, radius, etc.), also need to be entered as inputs. For our geodemographic classification of AirBnb ratings in Inner London, we will use one of the most popular clustering algorithms: K-means. This technique only requires as input the observation attributes and the final number of groups that we want it to cluster the observations into. In our case, we will use five to begin with as this will allow us to have a closer look into each of them.\n",
        "\n",
        "Although the underlying algorithm is not trivial, running K-means in Python is streamlined thanks to `scikit-learn`. Similar to the extensive set of available algorithms in the library, its computation is a matter of two lines of code. First, we need to specify the parameters in the `KMeans` method (which is part of `scikit-learn`’s `cluster` submodule). Note that, at this point, we do not even need to pass the data:"
      ]
    },
    {
      "cell_type": "code",
      "metadata": {},
      "source": [
        "kmeans5 = cluster.KMeans(n_clusters=5, random_state=12345, n_init='auto')"
      ],
      "execution_count": null,
      "outputs": []
    },
    {
      "cell_type": "markdown",
      "metadata": {},
      "source": [
        "This sets up an object that holds all the parameters required to run the algorithm. In our case, we only passed the number of  clusters (`n_clusters`) and the random state, a number that ensures every run of K-Means, which remember relies on random initialisations, is the same and thus reproducible. The `n-init` is an argument that controls for the number of times the k-means algorithm is run with different centroid seeds.\n",
        "\n",
        "To actually run the algorithm on the attributes, we need to call the fit method in` `kmeans5`:"
      ]
    },
    {
      "cell_type": "code",
      "metadata": {},
      "source": [
        "# Run the clustering algorithm\n",
        "k5cls = kmeans5.fit(abb[ratings])"
      ],
      "execution_count": null,
      "outputs": []
    },
    {
      "cell_type": "markdown",
      "metadata": {},
      "source": [
        "The k5cls object we have just created contains several components that can be useful for an analysis. For now, we will use the clusters, which represent the different categories in which we have grouped the data. Labels for the clusters can be extracted as follows:"
      ]
    },
    {
      "cell_type": "code",
      "metadata": {},
      "source": [
        "k5cls.labels_"
      ],
      "execution_count": null,
      "outputs": []
    },
    {
      "cell_type": "markdown",
      "metadata": {},
      "source": [
        "Each number represents a different category, so two observations with the same number belong to same group. The labels are returned in the same order as the input attributes were passed in, which means we can append them to the original table of data as an additional column:"
      ]
    },
    {
      "cell_type": "code",
      "metadata": {},
      "source": [
        "abb['k5cls'] = k5cls.labels_"
      ],
      "execution_count": null,
      "outputs": []
    },
    {
      "cell_type": "markdown",
      "metadata": {},
      "source": [
        "### Mapping the categories\n",
        "\n",
        "To get a better understanding of the classification we have just performed, it is useful to display the categories created on a map. For this, we will use a unique values choropleth, which will automatically assign a different color to each category:"
      ]
    },
    {
      "cell_type": "code",
      "metadata": {},
      "source": [
        "# Setup figure and ax\n",
        "fig, ax = plt.subplots(1, figsize=(9, 9))\n",
        "# Plot unique values choropleth including a legend and with no boundary lines\n",
        "abb.plot(\n",
        "    column='k5cls', categorical=True, legend=True, linewidth=0, ax=ax, cmap='viridis'\n",
        ")\n",
        "# Remove axis\n",
        "ax.set_axis_off()\n",
        "# Add title\n",
        "plt.title('AirBnb Geodemographic classification for Inner London')\n",
        "# Display the map\n",
        "plt.show()"
      ],
      "execution_count": null,
      "outputs": []
    },
    {
      "cell_type": "markdown",
      "metadata": {},
      "source": [
        "The map above represents the geographical distribution of the five categories created by the K-means algorithm. A quick glance shows a strong spatial structure in the distribution of the colors.\n",
        "\n",
        "\n",
        "### Exploring the nature of the categories\n",
        "\n",
        "Once we have a sense of where and how the categories are distributed over space, it is also useful to explore them statistically. This will allow us to characterize them, giving us an idea of the kind of observations subsumed into each of them. As a first step, let us find how many observations are in each category. To do that, we will make use of the `groupby` operator introduced before, combined with the function `size`, which returns the number of elements in a subgroup:"
      ]
    },
    {
      "cell_type": "code",
      "metadata": {},
      "source": [
        "k5sizes = abb.groupby('k5cls').size()\n",
        "k5sizes"
      ],
      "execution_count": null,
      "outputs": []
    },
    {
      "cell_type": "markdown",
      "metadata": {},
      "source": [
        "The `groupby` operator groups a dataframe using the values in the column provided (`k5cls`) and passes them onto the function provided aftwerards, which in this case is `size`. Effectively, what this does is to groupby the observations by the categories created and count how many of them each contains. For a more visual representation of the output, a bar plot is a good alternative:"
      ]
    },
    {
      "cell_type": "code",
      "metadata": {},
      "source": [
        "fig, ax = plt.subplots(figsize=(7, 5))\n",
        "k5sizes.plot(kind='bar', color='skyblue')\n",
        "plt.title('Count of Categories in k5cls')\n",
        "plt.xlabel('k5cls Categories')\n",
        "plt.xticks(rotation=0)\n",
        "plt.ylabel('Count')\n",
        "plt.tight_layout()  # Adjust layout to make room for labels\n",
        "plt.show()"
      ],
      "execution_count": null,
      "outputs": []
    },
    {
      "cell_type": "markdown",
      "metadata": {},
      "source": [
        "As we suspected from the map, groups varying sizes, with groups one, two and three being over 70 observations each, and four being under 25.\n",
        "\n",
        "In order to describe the nature of each category, we can look at the values of each of the attributes we have used to create them in the first place. Remember we used the average ratings on many aspects (cleanliness, communication of the host, etc.) to create the classification, so we can begin by checking the average value of each. To do that in Python, we will rely on the `groupby` operator which we will combine it with the function `mean`:"
      ]
    },
    {
      "cell_type": "code",
      "metadata": {},
      "source": [
        "# Calculate the mean by group\n",
        "k5means = abb.groupby('k5cls')[ratings].mean()\n",
        "# Show the table transposed (so it's not too wide)\n",
        "k5means.T"
      ],
      "execution_count": null,
      "outputs": []
    },
    {
      "cell_type": "markdown",
      "metadata": {},
      "source": [
        "This concludes the section on geodemographics. As we have seen, the essence of this approach is to group areas based on a purely statistical basis: where each area is located is irrelevant for the label it receives from the clustering algorithm. In many contexts, this is not only permissible but even desirable, as the interest is to see if particular combinations of values are distributed over space in any discernible way. However, in other context, we may be interested in created groups of observations that follow certain spatial constraints. For that, we now turn into regionalization techniques.\n",
        "\n",
        "## Regionalisation algorithms\n",
        "\n",
        "Regionalisation is the subset of clustering techniques that impose a spatial constraint on the classification. In other words, the result of a regionalisation algorithm contains areas that are spatially contiguous. Effectively, what this means is that these techniques aggregate areas into a smaller set of larger ones, called regions. In this context then, areas are nested within regions. Real world examples of this phenomenon includes counties within states or, in the UK, local super output areas (LSOAs) into middle super output areas (MSOAs). The difference between those examples and the output of a regionalisation algorithm is that while the former are aggregated based on administrative principles, the latter follows a statistical technique that, very much the same as in the standard statistical clustering, groups together areas that are similar on the basis of a set of attributes. Only that now, such statistical clustering is spatially constrained.\n",
        "\n",
        "As in the non-spatial case, there are many different algorithms to perform regionalisation, and they all differ on details relating to the way they measure (dis)similarity, the process to regionalise, etc. However, same as above too, they all share a few common aspects. In particular, they all take a set of input variables or attributes and a representation of space in the form of a binary spatial weights matrix. Depending on the algorithm, they also require the desired number of output regions into which the areas are aggregated.\n",
        "\n",
        "To illustrate these concepts, we will run a regionalisation algorithm on the AirBnb data we have been using. In this case, the goal will be to re-delineate the boundary lines of the Inner London boroughs following a rationale based on the different average ratings on AirBnb properties, instead of the administrative reasons behind the existing boundary lines. In this way, the resulting regions will represent a consistent set of areas that are similar with each other in terms of the ratings received.\n",
        "\n",
        "\n",
        "### Defining space formally\n",
        "\n",
        "Very much in the same way as with ESDA techniques, regionalization methods require a formal representation of space that is statistics-friendly. In practice, this means that we will need to create a spatial weights matrix for the areas to be aggregated.\n",
        "\n",
        "Technically speaking, this is the same process as we have seen before, thanks to PySAL. The difference in this case is that we did not begin with a shapefile, but with a GeoJSON. Fortunately, PySAL supports the construction of spatial weights matrices “on-the-fly”, that is from a table. This is a one-liner:"
      ]
    },
    {
      "cell_type": "code",
      "metadata": {},
      "source": [
        "w = weights.Queen.from_dataframe(abb)"
      ],
      "execution_count": null,
      "outputs": []
    },
    {
      "cell_type": "markdown",
      "metadata": {},
      "source": [
        "### Creating regions from areas\n",
        "\n",
        "At this point, we have all the pieces needed to run a regionalization algorithm. For this example, we will use a spatially-constrained version of the agglomerative algorithm. This is a similar approach to that used above (the inner-workings of the algorithm are different however) with the difference that, in this case, observations can only be labelled in the same group if they are spatial neighbors, as defined by our spatial weights matrix `w`. The way to interact with the algorithm is very similar to that above. We first set the parameters:"
      ]
    },
    {
      "cell_type": "code",
      "metadata": {},
      "source": [
        "sagg = cluster.AgglomerativeClustering(n_clusters=12, connectivity=w.sparse)\n",
        "sagg"
      ],
      "execution_count": null,
      "outputs": []
    },
    {
      "cell_type": "markdown",
      "metadata": {},
      "source": [
        "And we can run the algorithm by calling fit:"
      ]
    },
    {
      "cell_type": "code",
      "metadata": {},
      "source": [
        "# Run the clustering algorithm\n",
        "saggcls = sagg.fit(abb[ratings])"
      ],
      "execution_count": null,
      "outputs": []
    },
    {
      "cell_type": "markdown",
      "metadata": {},
      "source": [
        "And then we append the labels to the table:"
      ]
    },
    {
      "cell_type": "code",
      "metadata": {},
      "source": [
        "abb['saggcls'] = saggcls.labels_"
      ],
      "execution_count": null,
      "outputs": []
    },
    {
      "cell_type": "markdown",
      "metadata": {},
      "source": [
        "### Mapping the resulting regions\n",
        "\n",
        "At this point, the column `sagg13cls` is no different than `k5cls`: a categorical variable that can be mapped into a unique values choropleth. In fact the following code snippett is exactly the same as before, only replacing the name of the variable to be mapped and the title:"
      ]
    },
    {
      "cell_type": "code",
      "metadata": {},
      "source": [
        "# Setup figure and ax\n",
        "f, ax = plt.subplots(1, figsize=(9, 9))\n",
        "# Plot unique values choropleth including a legend and with no boundary lines\n",
        "abb.plot(\n",
        "    column='saggcls', categorical=True, legend=True, linewidth=0, ax=ax, cmap='viridis'\n",
        ")\n",
        "# Remove axis\n",
        "ax.set_axis_off()\n",
        "# Add title\n",
        "plt.title('AirBnb-based boroughs for Inner London')\n",
        "# Display the map\n",
        "plt.show()"
      ],
      "execution_count": null,
      "outputs": []
    },
    {
      "cell_type": "markdown",
      "metadata": {},
      "source": [
        "### Comparing organic and administrative delineations\n",
        "\n",
        "The map above gives a very clear impression of the boundary delineation of the algorithm. However, it is still based on the small area polygons. To create the new boroughs “properly”, we need to dissolve all the polygons in each category into a single one. This is a standard GIS operation that is supported by `geopandas` and that can be easily actioned with the same `groupby` operator we used before. The only additional complication is that we need to wrap it into a separate function to be able to pass it on to `groupby`. We first the define the function `dissolve`:"
      ]
    },
    {
      "cell_type": "code",
      "metadata": {},
      "source": [
        "def dissolve(gs):\n",
        "    '''\n",
        "    Take a series of polygons and dissolve them into a single one\n",
        "    \n",
        "    Arguments\n",
        "    ---------\n",
        "    gs        : GeoSeries\n",
        "                Sequence of polygons to be dissolved\n",
        "    Returns\n",
        "    -------\n",
        "    dissolved : Polygon\n",
        "                Single polygon containing all the polygons in `gs`\n",
        "    '''\n",
        "    return gs.unary_union"
      ],
      "execution_count": null,
      "outputs": []
    },
    {
      "cell_type": "markdown",
      "metadata": {},
      "source": [
        "The boundaries for the AirBnb boroughs can then be obtained as follows:"
      ]
    },
    {
      "cell_type": "code",
      "metadata": {},
      "source": [
        "# Dissolve the polygons based on `saggcls`\n",
        "abb_boroughs = gpd.GeoSeries(\n",
        "    abb.groupby(abb['saggcls']).apply(dissolve),\n",
        "    crs=abb.crs\n",
        ")"
      ],
      "execution_count": null,
      "outputs": []
    },
    {
      "cell_type": "markdown",
      "metadata": {},
      "source": [
        "Which we can plot:"
      ]
    },
    {
      "cell_type": "code",
      "metadata": {},
      "source": [
        "# Setup figure and ax\n",
        "f, ax = plt.subplots(1, figsize=(6, 6))\n",
        "# Plot boundary lines\n",
        "abb_boroughs.plot(\n",
        "    ax=ax, \n",
        "    linewidth=0.5,\n",
        "    facecolor='white', \n",
        "    edgecolor='k'\n",
        ")\n",
        "# Remove axis\n",
        "ax.set_axis_off()\n",
        "# Add title\n",
        "plt.title('AirBnb-based boroughs for Inner London')\n",
        "plt.show()"
      ],
      "execution_count": null,
      "outputs": []
    },
    {
      "cell_type": "markdown",
      "metadata": {},
      "source": [
        "The delineation above provides a view into the geography of AirBnb properties. Each region delineated contains houses that, according to our regionalisation algorithm, are more similar with each other than those in the neighboring areas. Now let’s compare this geography that we have organically drawn from our data with that of the official set of administrative boundaries. For example, with the London boroughs.\n",
        "\n",
        "Remember we read these at the beginning of the notebook:"
      ]
    },
    {
      "cell_type": "code",
      "metadata": {},
      "source": [
        "boroughs.head()"
      ],
      "execution_count": null,
      "outputs": []
    },
    {
      "cell_type": "markdown",
      "metadata": {},
      "source": [
        "And displayed in a similar way as with the newly created ones:"
      ]
    },
    {
      "cell_type": "code",
      "metadata": {},
      "source": [
        "# Setup figure and ax\n",
        "f, ax = plt.subplots(1, figsize=(6, 6))\n",
        "# Plot boundary lines\n",
        "boroughs.plot(\n",
        "    ax=ax, \n",
        "    linewidth=0.5,\n",
        "    edgecolor='k', \n",
        "    facecolor='white'\n",
        ")\n",
        "# Remove axis\n",
        "ax.set_axis_off()\n",
        "# Add title\n",
        "plt.title('Administrative boroughs for Inner London')\n",
        "plt.show()"
      ],
      "execution_count": null,
      "outputs": []
    },
    {
      "cell_type": "markdown",
      "metadata": {},
      "source": [
        "In order to more easily compare the administrative and the “regionalized” boundary lines, we can overlay them:\n"
      ]
    },
    {
      "cell_type": "code",
      "metadata": {},
      "source": [
        "# Set up figure\n",
        "f, ax = plt.subplots(1, figsize=(12, 12))\n",
        "f.set_facecolor(\"k\")\n",
        "\n",
        "# Add boroughs\n",
        "boroughs.to_crs(\n",
        "    epsg=22770\n",
        ").plot(\n",
        "    ax=ax,\n",
        "    facecolor=\"none\",\n",
        "    edgecolor=\"xkcd:salmon\",\n",
        "    linewidth=1\n",
        ")\n",
        "\n",
        "# Add regionalisation geography\n",
        "abb_boroughs.to_crs(\n",
        "    epsg=22770\n",
        ").plot(\n",
        "    ax=ax,\n",
        "    facecolor=\"none\",\n",
        "    edgecolor=\"xkcd:lime\",\n",
        "    linewidth=0.5\n",
        ")\n",
        "\n",
        "# Add basemap\n",
        "cx.add_basemap(\n",
        "    ax,\n",
        "    crs=\"EPSG:22770\",\n",
        "    source=cx.providers.CartoDB.DarkMatterNoLabels\n",
        ")\n",
        "\n",
        "# Remove axis\n",
        "ax.set_axis_off()\n",
        "# Display clean\n",
        "plt.show()"
      ],
      "execution_count": null,
      "outputs": []
    },
    {
      "cell_type": "markdown",
      "metadata": {},
      "source": [
        "Looking at the figure, there are several differences between the two maps. The clearest one is that, while the administrative boundaries have a very balanced size (with the exception of the city of London), the regions created with the spatial agglomerative algorithm are very different in terms of size between each other. This is a consequence of both the nature of the underlying data and the algorithm itself. Substantively, this shows how, based on AirBnb, we can observe large areas that are similar and hence are grouped into the same region, while there also exist pockets with characteristics different enough to be assigned into a different region.\n"
      ]
    }
  ],
  "metadata": {
    "kernelspec": {
      "name": "python3",
      "language": "python",
      "display_name": "Python 3 (ipykernel)"
    }
  },
  "nbformat": 4,
  "nbformat_minor": 4
}