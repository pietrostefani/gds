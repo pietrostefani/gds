{
  "cells": [
    {
      "cell_type": "raw",
      "metadata": {},
      "source": [
        "---\n",
        "format:\n",
        "  html:\n",
        "    code-fold: false\n",
        "---"
      ]
    },
    {
      "cell_type": "markdown",
      "metadata": {},
      "source": [
        "# Lab in Python {#sec-spatial-data-Python .unnumbered}\n",
        "\n",
        "In this lab, we will learn how to load, manipulate and visualize spatial data. In some senses, spatial data are usually included simply as \"one more column\" in a table. However, *spatial is special* sometimes and there are few aspects in which geographic data differ from standard numerical tables. In this session, we will extend the skills developed in the previous one about non-spatial data, and combine them. In the process, we will discover that, although with some particularities, dealing with spatial data in `Python` largely resembles dealing with non-spatial data.\n",
        "\n",
        "## Importing modules"
      ]
    },
    {
      "cell_type": "code",
      "metadata": {},
      "source": [
        "#| warning: false\n",
        "\n",
        "# Import the pandas library, which is useful for data manipulation and analysis.\n",
        "import pandas as pd\n",
        "# Import the geopandas library, which extends pandas to support spatial data operations.\n",
        "import geopandas as gpd\n",
        "# Import the Point class from the shapely.geometry module, used for handling geometric points.\n",
        "from shapely.geometry import Point\n",
        "# Import the osmnx library, which simplifies the process of downloading and analyzing street networks and other geospatial data from OpenStreetMap.\n",
        "import osmnx as ox\n",
        "# Import the contextily library, which is used for adding basemaps (like raster tiles) to geospatial plots.\n",
        "import contextily as cx\n",
        "# Import the pyplot module from matplotlib, a library for creating static, animated, and interactive visualizations in Python.\n",
        "import matplotlib.pyplot as plt\n",
        "# Import the CRS class from pyproj, which provides tools for defining and transforming coordinate reference systems.\n",
        "from pyproj import CRS\n",
        "# Operating systems\n",
        "import os\n",
        "# Interactive maps\n",
        "import folium\n",
        "# Import the display function\n",
        "from IPython.display import display"
      ],
      "execution_count": null,
      "outputs": []
    },
    {
      "cell_type": "markdown",
      "metadata": {},
      "source": [
        "## Datasets\n",
        "\n",
        "Today we are going to go to London. We will be playing around with different datasets loading them both locally and dynamically from the web. You can download data manually, keep a copy on your computer, and load them from there.\n",
        "\n",
        "### Creating geographic data\n",
        "\n",
        "First we will use the following commands create geographic datasets *from scratch* representing coordinates of some famous locations in London. Most projects start with pre-generated data, but it's useful to create datasets to understand data structures."
      ]
    },
    {
      "cell_type": "code",
      "metadata": {},
      "source": [
        "# Create the DataFrame\n",
        "data = {\n",
        "    'name': [\"The British Museum\", \"Big Ben\", \"King's Cross\", \"The Natural History Museum\"],\n",
        "    'lon': [-0.1459604, -0.1272057, -0.1319481, -0.173734],\n",
        "    'lat': [51.5045975, 51.5007325, 51.5301701, 51.4938451]\n",
        "}\n",
        "poi_df = pd.DataFrame(data)\n",
        "\n",
        "# Convert DataFrame to GeoDataFrame\n",
        "geometry = [Point(xy) for xy in zip(poi_df['lon'], poi_df['lat'])]\n",
        "poi_gdf = gpd.GeoDataFrame(poi_df, geometry=geometry)\n",
        "\n",
        "# Set the coordinate reference system (CRS)\n",
        "poi_gdf.set_crs(epsg=4326, inplace=True)\n",
        "\n",
        "print(poi_gdf)"
      ],
      "execution_count": null,
      "outputs": []
    },
    {
      "cell_type": "markdown",
      "metadata": {},
      "source": [
        "### Types of Data\n",
        "\n",
        "Now let's look at the different types of geographical data starting with polygons. We will use a dataset that contains the boundaries of the districts of London. We can read it into an object named districts.\n",
        "\n",
        "::: {.panel-tabset group=\"data\"}\n",
        "## Polygons\n",
        "\n",
        "We first import the district shapefile use `gpd.read_file`, we then plot it to make sure we are seeing it 'correctly'."
      ]
    },
    {
      "cell_type": "code",
      "metadata": {},
      "source": [
        "# Read the shapefile for districts\n",
        "districts = gpd.read_file(\"data/London/Polygons/districts.shp\")\n",
        "\n",
        "# Create a simple plot\n",
        "districts.plot()\n",
        "\n",
        "# Display the plot\n",
        "plt.show()"
      ],
      "execution_count": null,
      "outputs": []
    },
    {
      "cell_type": "markdown",
      "metadata": {},
      "source": [
        "## Lines\n",
        "\n",
        "We them import a file of roads in London and plot it."
      ]
    },
    {
      "cell_type": "code",
      "metadata": {},
      "source": [
        "# Read the shapefile for A roads\n",
        "a_roads = gpd.read_file(\"data/London/Lines/a_roads.shp\")\n",
        "\n",
        "# If you needed to import a `geojson` file, this would be the function:\n",
        "# a_roads = gpd.read_file(\"data/London/Lines/a_roads.geojson\")\n",
        "\n",
        "# Create a simple plot of the roads\n",
        "a_roads.plot()\n",
        "\n",
        "# Display the plot\n",
        "plt.show()"
      ],
      "execution_count": null,
      "outputs": []
    },
    {
      "cell_type": "markdown",
      "metadata": {},
      "source": [
        "## Points\n",
        "\n",
        "We can also import point files. So far, we have imported `shapefiles` and `geojsons`, but we can also obtain data from urls like in the [Open Science DIY](https://pietrostefani.github.io/gds/openscienceDIY.html) session or from other sources like **OpenStreetMap**. Both `R` and `Python` have libraries that allow us to query OpenStreetMap.\n",
        "\n",
        "Note that we use the method `features_from_place`, which queries for points in a particular place (London in this case) and creates a GeoDataFrame of OSM features."
      ]
    },
    {
      "cell_type": "code",
      "metadata": {},
      "source": [
        "# Create an OSM query for \"Greater London, U.K.\"\n",
        "query = \"London, United Kingdom\"\n",
        "restaurants = ox.features_from_place(query, tags={\"amenity\": [\"restaurant\", \"bar\", \"pub\"]})\n",
        "# Create a simple plot of the roads\n",
        "restaurants.plot()\n",
        "# Display the plot\n",
        "plt.show()"
      ],
      "execution_count": null,
      "outputs": []
    },
    {
      "cell_type": "markdown",
      "metadata": {},
      "source": [
        "And to inspect the data queried:"
      ]
    },
    {
      "cell_type": "code",
      "metadata": {},
      "source": [
        "restaurants.info()"
      ],
      "execution_count": null,
      "outputs": []
    },
    {
      "cell_type": "markdown",
      "metadata": {},
      "source": [
        "You do not need to know at this point what happens behind the scenes when we run these lines but, if you are curious, we are making a query to OpenStreetMap (almost as if you typed \"restaurant in London, UK\" within Google Maps) and getting the response as a table of data, instead of as a website with an interactive map. Pretty cool, huh?\n",
        "\n",
        "*Note*: the code cells above requires internet connectivity. For more about querying from osm see [here](https://osmnx.readthedocs.io/en/stable/user-reference.html#osmnx.features.features_from_point).\n",
        "\n",
        "**Important**: Be careful, if you query too much data, your environment is likely to get stuck.\n",
        ":::\n",
        "\n",
        "## Inspecting Spatial Data\n",
        "\n",
        "### Inspecting\n",
        "\n",
        "Just like a `dataframe` (see the OpenScience Lab), we can inspect the data (attributes table) within a spatial object. The most direct way to get from a file to a quick visualization of the data is by loading it and calling the `plot` command. Let's start by inspecting the data like we did for non spatial `dataframes`.\n",
        "\n",
        "We can see our data is very similar to a traditional, non-spatial `dataFrame`, but with an additional column called geometry."
      ]
    },
    {
      "cell_type": "code",
      "metadata": {},
      "source": [
        "# Read the first 5 rows of the data\n",
        "print(districts.head()) "
      ],
      "execution_count": null,
      "outputs": []
    },
    {
      "cell_type": "markdown",
      "metadata": {},
      "source": [
        "We can inspect the object in different ways :"
      ]
    },
    {
      "cell_type": "code",
      "metadata": {},
      "source": [
        "# Read the first row\n",
        "print(districts.iloc[0])\n",
        "\n",
        "# Read the first column\n",
        "print(districts.iloc[:, 0])\n",
        "\n",
        "# Read the first row, first column\n",
        "print(districts.iloc[0, 0])\n",
        "\n",
        "# Read the column \"DIST_NAME\"\n",
        "print(districts['DIST_NAME'])"
      ],
      "execution_count": null,
      "outputs": []
    },
    {
      "cell_type": "markdown",
      "metadata": {},
      "source": [
        "We can read or create subsets:"
      ]
    },
    {
      "cell_type": "code",
      "metadata": {},
      "source": [
        "# dataframe can be subsetted using conditional statement\n",
        "# read the rows which have \"City of London\" as value for DIST_NAME\n",
        "# Filter rows where 'DIST_NAME' is 'City of London'\n",
        "filtered_districts = districts[districts['DIST_NAME'] == 'City of London']\n",
        "\n",
        "print(filtered_districts)"
      ],
      "execution_count": null,
      "outputs": []
    },
    {
      "cell_type": "markdown",
      "metadata": {},
      "source": [
        "### Quick visualisation\n",
        "\n",
        "Let's start by plotting London in a colour and adding Hackney (a district) in a different colour."
      ]
    },
    {
      "cell_type": "code",
      "metadata": {},
      "source": [
        "# Plot London in grey\n",
        "fig, ax = plt.subplots()\n",
        "districts.plot(ax=ax, color='lightgrey')\n",
        "\n",
        "# Add city of London (Hackney) in turquoise to the map\n",
        "hackney = districts[districts['DIST_NAME'] == 'Hackney']\n",
        "hackney.plot(ax=ax, color='turquoise')\n",
        "\n",
        "plt.show()"
      ],
      "execution_count": null,
      "outputs": []
    },
    {
      "cell_type": "markdown",
      "metadata": {},
      "source": [
        "Some guidance on colours in `Python` can be found [here](https://matplotlib.org/stable/gallery/color/named_colors.html).\n",
        "\n",
        "## Styling plots\n",
        "\n",
        "It is possible to tweak many aspects of a plot to customize if to particular needs. In this section, we will explore some of the basic elements that will allow us to obtain more compelling maps.\n",
        "\n",
        "**Note**: some of these variations are very straightforward while others are more intricate and require tinkering with the internal parts of a plot. They are not necessarily organized by increasing level of complexity.\n",
        "\n",
        "### Plotting different layers\n",
        "\n",
        "We first start by plotting one layer over another"
      ]
    },
    {
      "cell_type": "code",
      "metadata": {},
      "source": [
        "# Plotting the geometries\n",
        "fig, ax = plt.subplots()\n",
        "\n",
        "# Plot districts with no fill (transparent fill)\n",
        "districts.plot(ax=ax, edgecolor='black', facecolor='none')  # No fill, only border\n",
        "# Plot roads with transparency\n",
        "a_roads.plot(ax=ax, color='brown')  # Roads in brown\n",
        "\n",
        "plt.show()"
      ],
      "execution_count": null,
      "outputs": []
    },
    {
      "cell_type": "markdown",
      "metadata": {},
      "source": [
        "### Changing transparency\n",
        "\n",
        "The intensity of color of a polygon can be easily changed through the alpha attribute in plot. This is specified as a value betwee zero and one, where the former is entirely transparent while the latter is the fully opaque (maximum intensity):"
      ]
    },
    {
      "cell_type": "code",
      "metadata": {},
      "source": [
        "# Plotting the geometries\n",
        "fig, ax = plt.subplots()\n",
        "\n",
        "# Plot districts with no fill (transparent fill)\n",
        "districts.plot(ax=ax, edgecolor='black', facecolor='none')  # No fill, only border\n",
        "# Plot roads with transparency\n",
        "a_roads.plot(ax=ax, color='brown', alpha=0.5)  # Roads in brown\n",
        "\n",
        "plt.show()"
      ],
      "execution_count": null,
      "outputs": []
    },
    {
      "cell_type": "markdown",
      "metadata": {},
      "source": [
        "### Removing axes\n",
        "\n",
        "Although in some cases, the axes can be useful to obtain context, most of the times maps look and feel better without them. Removing the axes involves wrapping the plot into a figure, which takes a few more lines of aparently useless code but that, in time, it will allow you to tweak the map further and to create much more flexible designs."
      ]
    },
    {
      "cell_type": "code",
      "metadata": {},
      "source": [
        "# Plotting the geometries\n",
        "fig, ax = plt.subplots()\n",
        "\n",
        "# Plot districts with no fill (transparent fill)\n",
        "districts.plot(ax=ax, edgecolor='black', facecolor='none')  # No fill, only border\n",
        "# Plot roads with transparency\n",
        "a_roads.plot(ax=ax, color='brown', alpha=0.5)  # Roads with 50% transparency\n",
        "\n",
        "# Remove the axis\n",
        "ax.axis('off')\n",
        "\n",
        "plt.show()"
      ],
      "execution_count": null,
      "outputs": []
    },
    {
      "cell_type": "markdown",
      "metadata": {},
      "source": [
        "Let us stop for a second a study each of the previous lines:\n",
        "\n",
        "We have first created a figure named `fig` with one axis named `ax` by using the command `plt.subplots` (part of the library matplotlib, which we have imported at the top of the notebook). Note how the method is returning two elements and we can assign each of them to objects with different name (`fig` and `ax`) by simply listing them at the front of the line, separated by commas.\n",
        "\n",
        "Second, we plot the geographies as before, but this time we tell the function that we want it to draw the polygons on the axis we are passing, `ax`. This method returns the axis with the geographies in them, so we make sure to store it on an object with the same name, `ax`.\n",
        "\n",
        "On the third line, we effectively remove the box with coordinates.\n",
        "\n",
        "Finally, we draw the entire plot by calling plt.`show()`.\n",
        "\n",
        "### Adding a title\n",
        "\n",
        "Adding a title is an extra line, if we are creating the plot within a figure, as we just did. To include text on top of the figure:"
      ]
    },
    {
      "cell_type": "code",
      "metadata": {},
      "source": [
        "# Plotting the geometries\n",
        "fig, ax = plt.subplots()\n",
        "\n",
        "# Plot districts with no fill (transparent fill)\n",
        "districts.plot(ax=ax, edgecolor='black', facecolor='none')  # No fill, only border\n",
        "# Plot roads with transparency\n",
        "a_roads.plot(ax=ax, color='brown', alpha=0.5)  # Roads with 50% transparency\n",
        "# Remove the axis\n",
        "ax.axis('off')\n",
        "# Add figure title\n",
        "fig.suptitle(\"Main roads in London\")\n",
        "# Display\n",
        "plt.show()"
      ],
      "execution_count": null,
      "outputs": []
    },
    {
      "cell_type": "markdown",
      "metadata": {},
      "source": [
        "### Changing what border lines look like\n",
        "\n",
        "Border lines sometimes can distort or impede proper interpretation of a map. In those cases, it is useful to know how they can be modified. Let us first see the code to make the lines thicker and black, and then we will work our way through the different steps:"
      ]
    },
    {
      "cell_type": "code",
      "metadata": {},
      "source": [
        "# Convert CRS from WGS 84 (EPSG:4326) to British National Grid (EPSG:27700)\n",
        "poi_gdf_bng = poi_gdf.to_crs(epsg=27700)\n",
        "\n",
        "# Plotting the geometries\n",
        "fig, ax = plt.subplots()\n",
        "# Plot districts with no fill, black borders\n",
        "districts.plot(ax=ax, edgecolor='black', facecolor='none')\n",
        "# Plot roads with brown color and 50% transparency\n",
        "a_roads.plot(ax=ax, color='brown', alpha=0.5)\n",
        "# Plot restaurants with blue color and adjusted size\n",
        "poi_gdf_bng.plot(ax=ax, edgecolor='blue', facecolor='blue', markersize=100)# Adjust size accordingly\n",
        "# Remove the axis for a clean look\n",
        "ax.axis('off')\n",
        "# Add figure title\n",
        "fig.suptitle(\"Main roads in London\")\n",
        "# Display the plot\n",
        "plt.show()"
      ],
      "execution_count": null,
      "outputs": []
    },
    {
      "cell_type": "markdown",
      "metadata": {},
      "source": [
        "### Labelling\n",
        "\n",
        "Labeling maps is of paramount importance as it is often key when presenting data analysis and visualization. Properly labeled maps enables readers to effectively analyze and interpret spatial data.\n",
        "\n",
        "-   `iterrows()` is a pandas function that iterates over DataFrame rows as (index, Series) pairs. Here, `idx` is the index of the row, and row is a `pandas` series containing the data for that particular district.\n",
        "-   `centroid = row['geometry'].centroid` gets the centroid of each district's geometry. `row['geometry']` refers to the geometry of the district, which could be a polygon or a multipolygon. `.centroid` computes the geometric center (centroid) of this polygon.\n",
        "-   `ax.text()` is a method from `Matplotlib`, used to place text at specific coordinates on the plot. `centroid.x` and `centroid.y` provide the x and y coordinates of the centroid, which determine where the text will be placed. `row['DIST_NAME']` is the name of the district that will be displayed as the label. `fontsize=6` sets the size of the text to 8 points. `ha='center'` ensures that the text is horizontally aligned to the center of the specified coordinates."
      ]
    },
    {
      "cell_type": "code",
      "metadata": {},
      "source": [
        "# Plot the districts with a gray fill\n",
        "fig, ax = plt.subplots()\n",
        "districts.plot(ax=ax, edgecolor=\"black\", facecolor='none')\n",
        "\n",
        "# Add text labels at the centroids of the districts\n",
        "for idx, row in districts.iterrows():\n",
        "    centroid = row['geometry'].centroid\n",
        "    ax.text(centroid.x, centroid.y, row['DIST_NAME'], fontsize=6, ha='center')\n",
        "\n",
        "# Remove axis\n",
        "ax.set_axis_off()\n",
        "\n",
        "plt.show()"
      ],
      "execution_count": null,
      "outputs": []
    },
    {
      "cell_type": "markdown",
      "metadata": {},
      "source": [
        "## Coordinate reference Systems\n",
        "\n",
        "### CRSs in Python\n",
        "\n",
        "Coordindate reference systems (CRS) are the way geographers and cartographers represent a three-dimentional objects, such as the round earth, on a two-dimensional plane, such as a piece of paper or a computer screen. If the source data contain information on the CRS of the data, we can modify this.\n",
        "\n",
        "First we need to retrieve the CRS from the vector data."
      ]
    },
    {
      "cell_type": "code",
      "metadata": {},
      "source": [
        "# Retrieve the CRS from the GeoDataFrame\n",
        "crs = districts.crs\n",
        "# Print the CRS information\n",
        "print(crs)"
      ],
      "execution_count": null,
      "outputs": []
    },
    {
      "cell_type": "markdown",
      "metadata": {},
      "source": [
        "We can also retrieve some additional information about the used CRS. For example, try to run:"
      ]
    },
    {
      "cell_type": "code",
      "metadata": {},
      "source": [
        "# Check if the CRS is geographic or not\n",
        "is_geographic = CRS(crs).is_geographic\n",
        "# Find out the CRS units\n",
        "units_gdal = CRS(crs).axis_info[0].unit_name if CRS(crs).axis_info else None\n",
        "# Extract the SRID\n",
        "srid = CRS(crs).to_epsg()\n",
        "# Extract the proj4string representation\n",
        "proj4string = CRS(crs).to_proj4()\n",
        "\n",
        "# Print results\n",
        "print(f\"Is Geographic: {is_geographic}\")\n",
        "print(f\"Units (GDAL): {units_gdal}\")\n",
        "print(f\"SRID: {srid}\")\n",
        "print(f\"Proj4 String: {proj4string}\")"
      ],
      "execution_count": null,
      "outputs": []
    },
    {
      "cell_type": "markdown",
      "metadata": {},
      "source": [
        "As we can see, there is information stored about the reference system: it is using the standard British projection (British National Grid EPSG:27700), which is expressed in meters. There are also other less decipherable parameters but we do not need to worry about them right now.\n",
        "\n",
        "If we want to modify this and \"reproject\" the polygons into a different CRS, the quickest way is to find the EPSG code online (epsg.io is a good one, although there are others too). For example, if we wanted to transform the dataset into lat/lon coordinates, we would use its EPSG code, 4326 (CRS's name \"WGS84\"):\n",
        "\n",
        "In cases when a coordinate reference system (CRS) is missing or the wrong CRS is set, the `.to_crs` function can be used:"
      ]
    },
    {
      "cell_type": "code",
      "metadata": {},
      "source": [
        "# Transform the CRS to EPSG:4326\n",
        "districts_4326 = districts.to_crs(epsg=4326)\n",
        "\n",
        "# Optionally, print the new CRS to verify\n",
        "print(districts_4326.crs)"
      ],
      "execution_count": null,
      "outputs": []
    },
    {
      "cell_type": "markdown",
      "metadata": {},
      "source": [
        "### From coordinates to spatial objects\n",
        "\n",
        "CRSs are also very useful if we obtain data that is in a csv, has coordinates but needs to be transformed to a `GeoDataFrame`. For example we have some London housing transactions we want to import and use.\n",
        "\n",
        "We want to transform the .csv in a `GeoDataFrame` using the coordinates stored in columns 17 and 18, and then we set the `GeoDataFrame` CRS to the British National Grid (EPSG:27700)."
      ]
    },
    {
      "cell_type": "code",
      "metadata": {},
      "source": [
        "# Import housesales data from CSV\n",
        "housesales = pd.read_csv(\"data/London/Tables/housesales.csv\")\n",
        "\n",
        "# Filter housesales to include only those with price less than 500000\n",
        "housesales_f = housesales[housesales['price'] < 500000]\n",
        "\n",
        "# Assume columns 17 and 18 are 'longitude' and 'latitude' respectively\n",
        "housesales_gdf = gpd.GeoDataFrame(\n",
        "    housesales_f, geometry=gpd.points_from_xy(housesales_f.greastings, housesales_f.grnorthing), crs=\"EPSG:27700\"\n",
        ")\n",
        "\n",
        "print(housesales_gdf.head())"
      ],
      "execution_count": null,
      "outputs": []
    },
    {
      "cell_type": "markdown",
      "metadata": {},
      "source": [
        "### Zooming in or out\n",
        "\n",
        "It's important to know what CRS your data is in if you want to create zoomed versions of your maps. [BBox finder](http://bboxfinder.com/#0.000000,0.000000,0.000000,0.000000) is a useful tool to identify coordinates in `EPSG:4326`.\n",
        "\n",
        "Here for example we are zooming in to some of the point we created at the beginning of the lab."
      ]
    },
    {
      "cell_type": "code",
      "metadata": {},
      "source": [
        "# Create a plot\n",
        "fig, ax = plt.subplots(figsize=(10, 10))\n",
        "# Plot the districts\n",
        "districts_4326.plot(ax=ax, color='none', edgecolor='black')\n",
        "# Plot the points of interest\n",
        "poi_gdf.plot(ax=ax, color='blue', markersize=50)\n",
        "# Set the coordinate limits\n",
        "ax.set_xlim(-0.180723, -0.014212)\n",
        "ax.set_ylim(51.476668, 51.532337)\n",
        "# Remove axis labels and ticks\n",
        "ax.set_axis_off()\n",
        "# Show the plot\n",
        "plt.show()"
      ],
      "execution_count": null,
      "outputs": []
    },
    {
      "cell_type": "markdown",
      "metadata": {},
      "source": [
        "## Manipulating Spatial Tables\n",
        "\n",
        "Once we have an understanding of how to visually display spatial information contained, let us see how it can be combined with the operations related to manipulating non-spatial tabular data. Essentially, the key is to realize that a `GeoDataFrame` contain most of its spatial information in a single column named geometry, but the rest of it looks and behaves exactly like a non-spatial `DataFrame` (in fact, it is). This concedes them all the flexibility and convenience that we saw in manipulating, slicing, and transforming tabular data, with the bonus that spatial data is carried away in all those steps. In addition, `GeoDataFrame` also incorporate a set of explicitly spatial operations to combine and transform data. In this section, we will consider both.\n",
        "\n",
        "`GeoDataFrames` come with a whole range of traditional GIS operations built-in. Here we will run through a small subset of them that contains some of the most commonly used ones.\n",
        "\n",
        "::: {.panel-tabset group=\"data\"}\n",
        "## Area\n",
        "\n",
        "One of the spatial aspects we often need from polygons is their area. \"How big is it?\" is a question that always haunts us when we think of countries, regions, or cities. To obtain area measurements, first make sure the `GeoDataFrame` you are working with is projected. If that is the case, you can calculate areas as follows:\n",
        "\n",
        "We had already checked that district was projected to the British National Grid"
      ]
    },
    {
      "cell_type": "code",
      "metadata": {},
      "source": [
        "districts_areas = districts.area\n",
        "districts_areas.head()\n",
        "\n",
        "areas_in_sqkm = districts_areas / 1000000 #convert into squared kilometres\n",
        "areas_in_sqkm.head()"
      ],
      "execution_count": null,
      "outputs": []
    },
    {
      "cell_type": "markdown",
      "metadata": {},
      "source": [
        "## Length\n",
        "\n",
        "Similarly, an equally common question with lines is their length. Also similarly, their computation is relatively straightforward, provided that our data are projected."
      ]
    },
    {
      "cell_type": "code",
      "metadata": {},
      "source": [
        "street_length = a_roads.length\n",
        "street_length.head()"
      ],
      "execution_count": null,
      "outputs": []
    },
    {
      "cell_type": "markdown",
      "metadata": {},
      "source": [
        "If you check the `dataframe` you will see the lengths.\n",
        "\n",
        "## Centroids\n",
        "\n",
        "Sometimes it is useful to summarize a polygon into a single point and, for that, a good candidate is its centroid (almost like a spatial analogue of the average)."
      ]
    },
    {
      "cell_type": "code",
      "metadata": {},
      "source": [
        "# Create a dataframe with centroids\n",
        "cents = districts.centroid\n",
        "cents.head()"
      ],
      "execution_count": null,
      "outputs": []
    },
    {
      "cell_type": "code",
      "metadata": {},
      "source": [
        "# Create a plot\n",
        "fig, ax = plt.subplots(figsize=(10, 10))\n",
        "# Plot the districts\n",
        "districts.plot(ax=ax, color='lightgrey', edgecolor='black')\n",
        "# Plot the centroids\n",
        "cents.plot(ax=ax, color='red', markersize=10, edgecolor='none')\n",
        "# Set minimal theme by removing axes and grid\n",
        "ax.set_axis_off()\n",
        "# Show the plot\n",
        "plt.show()"
      ],
      "execution_count": null,
      "outputs": []
    },
    {
      "cell_type": "markdown",
      "metadata": {},
      "source": [
        "## Buffers and selecting by location\n",
        "\n",
        "To create a buffer using `geopandas`, simply call the buffer method, passing in the radious. For example, to draw a 1000m. buffer around every centroid of every district:"
      ]
    },
    {
      "cell_type": "code",
      "metadata": {},
      "source": [
        "# buffer\n",
        "buf = cents.buffer(1000)\n",
        "buf.head()"
      ],
      "execution_count": null,
      "outputs": []
    },
    {
      "cell_type": "code",
      "metadata": {},
      "source": [
        "# Create a plot\n",
        "fig, ax = plt.subplots(figsize=(10, 10))\n",
        "# Plot the districts\n",
        "districts.plot(ax=ax, color='none', edgecolor='black')\n",
        "# Plot the centroids\n",
        "cents.plot(ax=ax, color='black', markersize=20, edgecolor='none')\n",
        "# Plot the centroid buffers\n",
        "buf.plot(ax=ax, color='none', alpha=0.5, edgecolor='red')\n",
        "# Set minimal theme by removing axes and grid\n",
        "ax.set_axis_off()\n",
        "# Show the plot\n",
        "plt.show()"
      ],
      "execution_count": null,
      "outputs": []
    },
    {
      "cell_type": "markdown",
      "metadata": {},
      "source": [
        ":::\n",
        "\n",
        "## Joins\n",
        "\n",
        "## Join districts with educational level data"
      ]
    },
    {
      "cell_type": "code",
      "metadata": {},
      "source": [
        "# Import qualifications data from CSV\n",
        "qualifications2001_df = pd.read_csv(\"data/London/Tables/qualifications2001_2.csv\")\n",
        "\n",
        "# Take a quick look at the table by reading the first 5 lines\n",
        "qualifications2001_df.head()"
      ],
      "execution_count": null,
      "outputs": []
    },
    {
      "cell_type": "markdown",
      "metadata": {},
      "source": [
        "Check the data"
      ]
    },
    {
      "cell_type": "code",
      "metadata": {},
      "source": [
        "# Join check that the code you are joining the data on is the same.\n",
        "# First check the GeoDataFrame\n",
        "districts.head()\n",
        "\n",
        "# Then the DataFrame\n",
        "qualifications2001_df.head()\n",
        "\n",
        "## rename(columns={'Zone-Code': 'Dist_code'}) specifies that the column name Zone-Code should be renamed to Dist_code\n",
        "qualifications2001_df.rename(columns={'Zone_Code': 'DIST_CODE'}, inplace=True)"
      ],
      "execution_count": null,
      "outputs": []
    },
    {
      "cell_type": "markdown",
      "metadata": {},
      "source": [
        "Merge the qualification dataset to the districts `GeoDataFrame`:\n",
        "\n",
        "-   Merge the `qualifications2001_df` DataFrame with the `districts` `GeoDataFrame`.\n",
        "-   The merge is done on the `DIST_CODE` column, which must be present in both DataFrames.\n",
        "-   By default, this performs an inner join, but you can specify different types of joins (e.g., left, right) with the 'how' parameter.\n",
        "-   `gpd.GeoDataFrame(...)` converts the resulting merged DataFrame into a GeoDataFrame using the 'geopandas' library.\n",
        "-   `district_qual` is the new `GeoDataFrame` that contains the combined data from 'qualifications2001_df' and 'districts'.\n",
        "-   `districts.plot()` plots the `GeoDataFrame` and `column='level 4'` specifies the column to plot.\n",
        "-   `legend=True` adds a legend to the plot and `cmap='OrRd'` applies a color map."
      ]
    },
    {
      "cell_type": "code",
      "metadata": {},
      "source": [
        "district_qual = districts.merge(qualifications2001_df, on='DIST_CODE')\n",
        "# Prove it worked\n",
        "district_qual.plot(column=\"Level4\", cmap=\"OrRd\")\n",
        "# Show the plot\n",
        "plt.show()"
      ],
      "execution_count": null,
      "outputs": []
    },
    {
      "cell_type": "markdown",
      "metadata": {},
      "source": [
        "### Calculation\n",
        "\n",
        "Now, let's create the share of people with level 4 qualification, i.e. create the new variable `Level4p` equal to the number of people with level4 qualification divided by total population:"
      ]
    },
    {
      "cell_type": "code",
      "metadata": {},
      "source": [
        "# Assuming 'Level4' and 'Pop' columns exist in the merged GeoDataFrame district_qual\n",
        "district_qual['Level4p'] = district_qual['Level4'] / district_qual['Population1674']"
      ],
      "execution_count": null,
      "outputs": []
    },
    {
      "cell_type": "markdown",
      "metadata": {},
      "source": [
        "## Saving maps to figures\n",
        "\n",
        "Create a file to put your maps:"
      ]
    },
    {
      "cell_type": "code",
      "metadata": {},
      "source": [
        "# Create directory \"maps\" if it doesn't exist\n",
        "os.makedirs(\"maps2\", exist_ok=True)"
      ],
      "execution_count": null,
      "outputs": []
    },
    {
      "cell_type": "markdown",
      "metadata": {},
      "source": [
        "Let's create a simple map with the variable we just created and save to external file:"
      ]
    },
    {
      "cell_type": "code",
      "metadata": {},
      "source": [
        "# Create a figure and axes for the plot\n",
        "fig, ax = plt.subplots()\n",
        "# Plot the districts' geometry with no fill color and black edges\n",
        "districts.plot(ax=ax, color='none', edgecolor='black')\n",
        "# Plot the district qualifications with a color map\n",
        "district_qual.plot(ax=ax, column=\"Level4\", cmap=\"OrRd\", legend=True)\n",
        "# Save the plot to a PDF file\n",
        "plt.savefig(\"maps/london_test2.pdf\")\n",
        "# Save the plot as a JPG file\n",
        "plt.savefig(\"maps/london_test2.jpg\", format='jpg', dpi=300)\n",
        "# Close the plot\n",
        "plt.close()"
      ],
      "execution_count": null,
      "outputs": []
    },
    {
      "cell_type": "markdown",
      "metadata": {},
      "source": [
        "## Adding baselayers\n",
        "\n",
        "Many single datasets lack context when displayed on their own. A common approach to alleviate this is to use web tiles, which are a way of quickly obtaining geographical context to present spatial data. In Python, we can use `contextily` to pull down tiles and display them along with our own geographic data.\n",
        "\n",
        "We can begin by creating a map in the same way we would do normally, and then use the `add_basemap` command to add a basemap:"
      ]
    },
    {
      "cell_type": "code",
      "metadata": {},
      "source": [
        "ax = restaurants.plot(color=\"black\")\n",
        "cx.add_basemap(ax, crs=restaurants.crs, source=cx.providers.CartoDB.Voyager);\n",
        "\n",
        "# Show the plot\n",
        "plt.show()"
      ],
      "execution_count": null,
      "outputs": []
    },
    {
      "cell_type": "markdown",
      "metadata": {},
      "source": [
        "Note that we need to be explicit when adding the basemap to state the coordinate reference system (crs) our data is expressed in, `contextily` will not be able to pick it up otherwise. Conversely, we could change our data’s CRS into `Pseudo-Mercator`, the native reference system for most web tiles:"
      ]
    },
    {
      "cell_type": "code",
      "metadata": {},
      "source": [
        "restaurants_wm = restaurants.to_crs(epsg=3857)\n",
        "ax = restaurants_wm.plot(color=\"black\")\n",
        "cx.add_basemap(ax, source=cx.providers.OpenStreetMap.Mapnik);\n",
        "\n",
        "# Show the plot\n",
        "plt.show()"
      ],
      "execution_count": null,
      "outputs": []
    },
    {
      "cell_type": "markdown",
      "metadata": {},
      "source": [
        "Note how the coordinates are different but, if we set it right, either approach aligns tiles and data nicely.\n",
        "\n",
        "Now, contextily offers a lot of options in terms of the sources and providers you can use to create your basemaps. For example, we can use satellite imagery instead. A lot more about basemap options with `contextly` [here](https://contextily.readthedocs.io/en/latest/providers_deepdive.html)."
      ]
    },
    {
      "cell_type": "code",
      "metadata": {},
      "source": [
        "f, ax = plt.subplots(1, figsize=(9, 9))\n",
        "districts.plot(alpha=0.5, ax=ax)\n",
        "cx.add_basemap(\n",
        "    ax, \n",
        "    crs=districts.crs,\n",
        "    source=cx.providers.Esri.WorldImagery\n",
        ")\n",
        "ax.set_axis_off()\n",
        "# Show the plot\n",
        "plt.show()"
      ],
      "execution_count": null,
      "outputs": []
    },
    {
      "cell_type": "markdown",
      "metadata": {},
      "source": [
        "## Interactive maps\n",
        "\n",
        "Everything we have seen so far relates to static maps. These are useful for publication, to include in reports or to print. However, modern web technologies afford much more flexibility to explore spatial data interactively.\n",
        "\n",
        "We wil use the `folium` library, which is a Python wrapper for `Leaflet`. Here’s how you can do it:"
      ]
    },
    {
      "cell_type": "code",
      "metadata": {},
      "source": [
        "# Define the locations and popups\n",
        "locations = {\n",
        "    \"The British Museum\": (51.5045975, -0.1459604),\n",
        "    \"Big Ben\": (51.5007325, -0.1272057),\n",
        "    \"King's Cross\": (51.5301701, -0.1319481),\n",
        "    \"The Natural History Museum\": (51.4938451, -0.173734)\n",
        "}\n",
        "\n",
        "# Create a base map\n",
        "m = folium.Map(location=[51.505, -0.127], zoom_start=14, tiles='CartoDB positron')\n",
        "\n",
        "# Add markers\n",
        "for popup, (lat, lng) in locations.items():\n",
        "    folium.Marker(location=[lat, lng], popup=popup).add_to(m)\n",
        "\n",
        "# Display the map\n",
        "display(m)"
      ],
      "execution_count": null,
      "outputs": []
    }
  ],
  "metadata": {
    "kernelspec": {
      "name": "python3",
      "language": "python",
      "display_name": "Python 3 (ipykernel)"
    }
  },
  "nbformat": 4,
  "nbformat_minor": 4
}