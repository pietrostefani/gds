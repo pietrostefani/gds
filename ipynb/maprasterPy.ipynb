{
  "cells": [
    {
      "cell_type": "markdown",
      "metadata": {},
      "source": [
        "# Lab in Python {#sec-map-raster-Python .unnumbered}\n",
        "\n",
        "In this session, we will further explore the world of geographic data visualization by building upon our understanding of both raster data and choropleths. Raster data, consisting of gridded cells, allows us to represent continuous geographic phenomena such as temperature, elevation, or satellite imagery. Choropleths, on the other hand, are an effective way to visualize spatial patterns through the use of color-coded regions, making them invaluable for displaying discrete data like population density or election results. By combining these techniques, we will gain a comprehensive toolkit for conveying complex geographical information in a visually compelling manner.\n",
        "\n",
        "## Importing Modules"
      ]
    },
    {
      "cell_type": "code",
      "metadata": {},
      "source": [
        "# Importing rasterio for handling raster data\n",
        "import rasterio\n",
        "from rasterio.warp import reproject, Resampling, calculate_default_transform\n",
        "from rasterio.mask import mask\n",
        "from rasterio.plot import show\n",
        "from rasterio import features\n",
        "\n",
        "# For additional raster data processing \n",
        "from osgeo import gdal \n",
        "\n",
        "# For converting Shapely geometries to GeoJSON format\n",
        "from shapely.geometry import mapping\n",
        "\n",
        "# For plotting and visualizing data using Matplotlib\n",
        "import matplotlib.pyplot as plt\n",
        "import matplotlib.patches as mpatches\n",
        "from matplotlib.patches import Patch\n",
        "import matplotlib.colorbar as colorbar\n",
        "import matplotlib.colors as mcolors\n",
        "from matplotlib.colors import ListedColormap, BoundaryNorm\n",
        "\n",
        "# For working with geospatial data\n",
        "import geopandas as gpd\n",
        "\n",
        "# For numerical operations and handling arrays\n",
        "import numpy as np\n",
        "import pandas as pd\n",
        "\n",
        "# These imports are for file and directory operations\n",
        "import os\n",
        "import zipfile\n",
        "import shutil\n",
        "\n",
        "#import rioxarray as rxr\n",
        "from rasterstats import zonal_stats"
      ],
      "execution_count": null,
      "outputs": []
    },
    {
      "cell_type": "markdown",
      "metadata": {},
      "source": [
        "## Terrain data\n",
        "\n",
        "### **Import raster data**\n",
        "\n",
        "Raster **terrain** data consists of gridded elevation values that represent the topography of a geographic area. You can download this from the [relevant github folder](https://github.com/pietrostefani/gds/tree/main/data/Lebanon). A good place to download elevation data is [Earth Explorer](https://earthexplorer.usgs.gov/). This [video](https://www.youtube.com/watch?v=NQg0g9ObhXE) takes you through the download process if you want to try this out yourself.\n",
        "\n",
        "We first import a raster file for elevation."
      ]
    },
    {
      "cell_type": "code",
      "metadata": {},
      "source": [
        "# Load the raster data\n",
        "elevation = rasterio.open(\"data/Lebanon/LBN_elevation_w_bathymetry.tif\")"
      ],
      "execution_count": null,
      "outputs": []
    },
    {
      "cell_type": "markdown",
      "metadata": {},
      "source": [
        "Plot it."
      ]
    },
    {
      "cell_type": "code",
      "metadata": {},
      "source": [
        "plt.figure(figsize=(8, 8))\n",
        "plt.imshow(elevation.read(1), cmap='viridis')\n",
        "plt.colorbar(label='Elevation')\n",
        "plt.title('Elevation with Bathymetry')\n",
        "plt.show()"
      ],
      "execution_count": null,
      "outputs": []
    },
    {
      "cell_type": "markdown",
      "metadata": {},
      "source": [
        "This information is typically accessed and updated via the .profile."
      ]
    },
    {
      "cell_type": "code",
      "metadata": {},
      "source": [
        "print(elevation.profile)"
      ],
      "execution_count": null,
      "outputs": []
    },
    {
      "cell_type": "markdown",
      "metadata": {},
      "source": [
        "Have a look at the CRS."
      ]
    },
    {
      "cell_type": "code",
      "metadata": {},
      "source": [
        "# Check the CRS of the raster\n",
        "crs = elevation.crs\n",
        "print(crs)"
      ],
      "execution_count": null,
      "outputs": []
    },
    {
      "cell_type": "markdown",
      "metadata": {},
      "source": [
        "### **Import the Lebanon shapefile**\n",
        "\n",
        "Import the Lebanon shapefile, plot it, and verify its Coordinate Reference System (CRS). Is it the same as the raster's CRS?"
      ]
    },
    {
      "cell_type": "code",
      "metadata": {},
      "source": [
        "# Load the shapefile data\n",
        "Lebanon_adm1 = gpd.read_file(\"data/Lebanon/LBN_adm1.shp\")\n",
        "\n",
        "# Plot the geometry\n",
        "Lebanon_adm1.plot(edgecolor='grey', facecolor='none')\n",
        "plt.title('Lebanon Administrative Boundaries')\n",
        "plt.show()"
      ],
      "execution_count": null,
      "outputs": []
    },
    {
      "cell_type": "code",
      "metadata": {},
      "source": [
        "# Check the CRS of the shapefile\n",
        "crs = Lebanon_adm1.crs\n",
        "print(crs)"
      ],
      "execution_count": null,
      "outputs": []
    },
    {
      "cell_type": "markdown",
      "metadata": {},
      "source": [
        "### **Reproject the Raster**"
      ]
    },
    {
      "cell_type": "code",
      "metadata": {},
      "source": [
        "# Define the desired destination CRS\n",
        "dst_crs = \"EPSG:22770\"  # For example, WGS84\n",
        "\n",
        "# Calculate the transform matrix, width, and height for the output raster\n",
        "dst_transform, width, height = calculate_default_transform(\n",
        "    elevation.crs,  # source CRS from the raster\n",
        "    dst_crs,        # destination CRS\n",
        "    elevation.width,  # column count\n",
        "    elevation.height, # row count\n",
        "    *elevation.bounds  # outer boundaries (left, bottom, right, top)\n",
        ")\n",
        "\n",
        "# Print the source and destination transforms\n",
        "print(\"Source Transform:\\n\", elevation.transform, '\\n')\n",
        "print(\"Destination Transform:\\n\", dst_transform)\n",
        "\n",
        "# Define the metadata for the output raster\n",
        "dst_meta = elevation.meta.copy()\n",
        "dst_meta.update({\n",
        "    'crs': dst_crs,\n",
        "    'transform': dst_transform,\n",
        "    'width': width,\n",
        "    'height': height\n",
        "})\n",
        "\n",
        "# Reproject and write the output raster\n",
        "with rasterio.open(\"data/Lebanon/reprojected_elevation.tif\", \"w\", **dst_meta) as dst:\n",
        "    for i in range(1, elevation.count + 1):\n",
        "        reproject(\n",
        "            source=rasterio.band(elevation, i),\n",
        "            destination=rasterio.band(dst, i),\n",
        "            src_transform=elevation.transform,\n",
        "            src_crs=elevation.crs,\n",
        "            dst_transform=dst_transform,\n",
        "            dst_crs=dst_crs,\n",
        "            resampling=Resampling.nearest\n",
        "        )"
      ],
      "execution_count": null,
      "outputs": []
    },
    {
      "cell_type": "markdown",
      "metadata": {},
      "source": [
        "### **Cropping and Masking**\n",
        "\n",
        "**Cropping**:\n",
        "\n",
        "-   Purpose: Cropping a raster involves changing the extent of the raster dataset by specifying a new bounding box or geographic area of interest. The result is a new raster that covers only the specified region.\n",
        "\n",
        "-   Typical Use: Cropping is commonly used when you want to reduce the size of a raster dataset to focus on a smaller geographic area of interest while retaining all the original data values within that area.\n",
        "\n",
        "**Masking**:\n",
        "\n",
        "-   Purpose: Applying a binary mask to the dataset. The mask is typically a separate raster or polygon layer where certain areas are designated as \"masked\" (1) or \"unmasked\" (0).\n",
        "\n",
        "-   Typical Use: Masking is used when you want to extract or isolate specific areas or features within a raster dataset. For example, you might use a mask to extract land cover information within the boundaries of a protected national park.\n",
        "\n",
        "In many cases, these cropping and masking are executed one after the other because it is computationally easier to crop when dealing with large datasets, and then masking."
      ]
    },
    {
      "cell_type": "code",
      "metadata": {},
      "source": [
        "elevation_22770 = rasterio.open(\"data/Lebanon/reprojected_elevation.tif\")\n",
        "\n",
        "# Use unary_union method to combine the geometries\n",
        "lebanon_union = Lebanon_adm1.geometry.unary_union\n",
        "\n",
        "# Crop the elevation data to the extent of Lebanon\n",
        "elevation_lebanon, elevation_lebanon_transform = mask(elevation_22770, [mapping(lebanon_union)], crop=True)"
      ],
      "execution_count": null,
      "outputs": []
    },
    {
      "cell_type": "markdown",
      "metadata": {},
      "source": [
        "### **Plot elevation**"
      ]
    },
    {
      "cell_type": "code",
      "metadata": {},
      "source": [
        "# Assuming elevation_lebanon contains the cropped elevation data and Lebanon_adm1 is the GeoDataFrame\n",
        "fig, ax = plt.subplots(figsize=(8, 8))\n",
        "# Plot the elevation data\n",
        "show(elevation_lebanon, transform=elevation_lebanon_transform, ax=ax, cmap='terrain')\n",
        "# Plot the Lebanon boundaries on top, with no fill color\n",
        "Lebanon_adm1.boundary.plot(ax=ax, edgecolor='black')\n",
        "\n",
        "plt.show()"
      ],
      "execution_count": null,
      "outputs": []
    },
    {
      "cell_type": "markdown",
      "metadata": {},
      "source": [
        "Let's improve this a bit. Remember that there is a lot we can do with [Cmap](https://www.analyticsvidhya.com/blog/2020/09/colormaps-matplotlib/#:~:text=Colormaps%20or%20Cmap%20in%20python%20colormaps%20is%20a%20very%20useful,custom%20ones%20using%20python%20colormaps)."
      ]
    },
    {
      "cell_type": "code",
      "metadata": {},
      "source": [
        "# Define the reversed 6 shades of orange\n",
        "orange_shades_reversed = ['#ef3b2c', '#fb6a4a', '#fc9272', '#fcbba1', '#fee0d2', '#fff5eb']\n",
        "\n",
        "# Define the breaks\n",
        "boundaries = [-100, 0, 700, 1200, 1800, 3300]\n",
        "\n",
        "# Define the color map and normalization\n",
        "cmap = ListedColormap(orange_shades_reversed)\n",
        "norm = BoundaryNorm(boundaries=boundaries, ncolors=len(orange_shades_reversed))\n",
        "\n",
        "fig, ax = plt.subplots(figsize=(8, 8))\n",
        "\n",
        "# Plot the elevation data with the custom color map\n",
        "im = show(elevation_lebanon, transform=elevation_lebanon_transform, ax=ax, cmap=cmap, norm=norm)\n",
        "\n",
        "# Plot the Lebanon boundaries on top, with no fill color\n",
        "Lebanon_adm1.boundary.plot(ax=ax, edgecolor='black')\n",
        "\n",
        "# Remove the axes\n",
        "ax.axis('off')\n",
        "\n",
        "# Manually create a legend\n",
        "legend_labels = ['< 0 m', '0 - 700 m', '700 - 1200 m', '1200 - 1800 m', '1800 - 3300 m', '> 3300 m']\n",
        "legend_patches = [Patch(color=orange_shades_reversed[i], label=legend_labels[i]) for i in range(len(orange_shades_reversed))]\n",
        "\n",
        "# Add the legend to the right of the plot\n",
        "ax.legend(handles=legend_patches, loc='center left', bbox_to_anchor=(1, 0.5), title='Elevation (m)', frameon=False)\n",
        "\n",
        "\n",
        "plt.show()"
      ],
      "execution_count": null,
      "outputs": []
    },
    {
      "cell_type": "markdown",
      "metadata": {},
      "source": [
        "Questions to ask yourself about how you can improve these maps, going back to [geo-visualisation and choropleths](https://pietrostefani.github.io/gds/mapvector.html).\n",
        "\n",
        "-   What are the logical breaks for elevation data?\n",
        "\n",
        "-   Should the colours be changed to standard elevation pallettes?\n",
        "\n",
        "### **Slope**\n",
        "\n",
        "It may sometimes prove useful to visualize these elevation models with mechanisms such as contour lines. Fortunately, this is fairly easy to accomplish in Python using packages such as GDAL and Matplotlib."
      ]
    },
    {
      "cell_type": "code",
      "metadata": {},
      "source": [
        "# Specify the filename of the raster file\n",
        "filename = \"data/Lebanon/reprojected_elevation.tif\"\n",
        "# Open the raster file using GDAL (Geospatial Data Abstraction Library)\n",
        "gdal_data = gdal.Open(filename)\n",
        "# Retrieve the first band (layer) of the raster data\n",
        "gdal_band = gdal_data.GetRasterBand(1)\n",
        "# Get the value that represents 'no data' or missing data within the raster\n",
        "nodataval = gdal_band.GetNoDataValue()\n",
        "# Read the raster data into a numpy array and convert it to a float64 data type\n",
        "data_array = gdal_data.ReadAsArray().astype(np.float64)\n",
        "# Check if the array contains any 'no data' values\n",
        "if np.any(data_array == nodataval):\n",
        "    # Replace 'no data' values with NaN (Not a Number) to handle them as missing data\n",
        "    data_array[data_array == nodataval] = np.nan"
      ],
      "execution_count": null,
      "outputs": []
    },
    {
      "cell_type": "markdown",
      "metadata": {},
      "source": [
        "Raster data, such as a GeoTIFF, is typically stored with the origin (0,0) at the top-left corner. This means the first row in the data array corresponds to the top of the raster, and the last row corresponds to the bottom. However, when you visualize data using Matplotlib, the default behavior assumes that the origin (0,0) is at the bottom-left corner. This discrepancy can cause the image to appear flipped vertically."
      ]
    },
    {
      "cell_type": "code",
      "metadata": {},
      "source": [
        "data_array_flipped = np.flipud(data_array)"
      ],
      "execution_count": null,
      "outputs": []
    },
    {
      "cell_type": "markdown",
      "metadata": {},
      "source": [
        "Now that we’ve read our data in, we’re ready to visualize the elevation using contour lines within Matplotlib (Note: We will be re-reading in the data again here due to NaN values)."
      ]
    },
    {
      "cell_type": "code",
      "metadata": {},
      "source": [
        "#Plot out data with Matplotlib's 'contour'\n",
        "fig = plt.figure(figsize = (8, 8))\n",
        "ax = fig.add_subplot(111)\n",
        "plt.contour(data_array_flipped, cmap = \"viridis\", \n",
        "            levels = list(range(0, 4000, 200)))\n",
        "            \n",
        "# Set limits for the x-axis\n",
        "ax.set_xlim([450, 1100])  # Replace xmin and xmax with your desired values\n",
        "ax.set_ylim([0, 750])  # Replace xmin and xmax with your desired values\n",
        "             \n",
        "plt.title(\"Elevation Lebanon\")\n",
        "cbar = plt.colorbar()\n",
        "plt.gca().set_aspect('equal', adjustable='box')\n",
        "plt.show()"
      ],
      "execution_count": null,
      "outputs": []
    },
    {
      "cell_type": "markdown",
      "metadata": {},
      "source": [
        "#Plot our data with Matplotlib's 'contourf'"
      ]
    },
    {
      "cell_type": "code",
      "metadata": {},
      "source": [
        "fig = plt.figure(figsize = (8, 8))\n",
        "ax = fig.add_subplot(111)\n",
        "plt.contourf(data_array_flipped, cmap = \"gist_earth\", \n",
        "            levels = list(range(0, 4000, 200)))\n",
        "\n",
        "# Set limits for the x-axis\n",
        "ax.set_xlim([450, 1100])  # Replace xmin and xmax with your desired values\n",
        "ax.set_ylim([0, 750])  # Replace xmin and xmax with your desired values\n",
        "             \n",
        "plt.title(\"Elevation Lebanon\")\n",
        "cbar = plt.colorbar()\n",
        "plt.gca().set_aspect('equal', adjustable='box')\n",
        "plt.show()"
      ],
      "execution_count": null,
      "outputs": []
    },
    {
      "cell_type": "markdown",
      "metadata": {},
      "source": [
        "### **Flood risk area**\n",
        "\n",
        "We can employ reclassification techniques to delineate flood risk areas. Specifically, we identify and classify areas where the elevation is under 10 meters above sea level as high-risk zones. This critical step in flood risk assessment helps communities and decision-makers pinpoint vulnerable areas, enabling them to implement effective mitigation strategies and disaster preparedness plans to safeguard against potential flooding events."
      ]
    },
    {
      "cell_type": "code",
      "metadata": {},
      "source": [
        "# Apply the function to create the flood_risk array\n",
        "flood_risk = np.where(data_array < 10, 1, 0) # assigning 1 if the element is less than 10, and 0 otherwise. We cleaned data_array earlier."
      ],
      "execution_count": null,
      "outputs": []
    },
    {
      "cell_type": "code",
      "metadata": {},
      "source": [
        "# Create a new figure for the plot\n",
        "plt.figure()\n",
        "\n",
        "# Plot the flood_risk array\n",
        "plt.imshow(flood_risk, cmap='Greys')\n",
        "plt.title('Flood Risk Map')\n",
        "plt.show()"
      ],
      "execution_count": null,
      "outputs": []
    },
    {
      "cell_type": "markdown",
      "metadata": {},
      "source": [
        "### **Spatial join with vector data**\n",
        "\n",
        "You might want to extract values from a raster data set, and then map them within a vector framework or extract them to analyse them statistically. If it therefore very useful to know how to extract:"
      ]
    },
    {
      "cell_type": "code",
      "metadata": {},
      "source": [
        "# Load some geo-localized survey data\n",
        "households = gpd.read_file(\"data/Lebanon/random_survey_LBN.shp\")\n",
        "\n",
        "# Open the elevation raster file\n",
        "with rasterio.open(\"data/Lebanon/LBN_elevation_w_bathymetry.tif\") as src:\n",
        "    # Reproject households coordinates to the CRS of the raster\n",
        "    households = households.to_crs(src.crs)\n",
        "    \n",
        "    # Extract elevation values at the coordinates of the points\n",
        "    housesales_elevation = [\n",
        "        val[0] if val is not None else None\n",
        "        for val in src.sample([(geom.x, geom.y) for geom in households.geometry])\n",
        "    ]\n",
        "\n",
        "# Attach elevation at each point to the original households GeoDataFrame\n",
        "households['elevation'] = housesales_elevation\n",
        "\n",
        "# Check out the data\n",
        "print(households.head())"
      ],
      "execution_count": null,
      "outputs": []
    },
    {
      "cell_type": "markdown",
      "metadata": {},
      "source": [
        "- *Handling CRS (Coordinate Reference System)*: The household data CRS is transformed to match the raster’s CRS before extracting elevation values.\n",
        "- *Extracting Elevation*: Elevation values are extracted at each household location using rasterio’s sample method.\n",
        "- *Attaching Elevation Data*: The elevation data is added as a new column to the households `GeoDataFrame`.\n",
        "\t\n",
        "::: callout-important\n",
        "Make sure all your data is in the same CRS, otherwise the `rasterio`’s sample will not work properly.\n",
        ":::\n",
        "\n",
        "## Night Lights\n",
        "\n",
        "This section is a bit more advanced, there are hints along the way to make it simpler.\n",
        "\n",
        "### **Download data**\n",
        "\n",
        "::: {.callout-note title=\"Download the Data\"}\n",
        "\n",
        "We need to download some raster data. NOAA has made nighttime lights data available for 1992 to 2013. It is called the Version 4 DMSP-OLS Nighttime Lights Time Series. The files are cloud-free composites made using all the available archived DMSP-OLS smooth resolution data for calendar years. In cases where two satellites were collecting data - two composites were produced. The products are 30 arc-second grids, spanning -180 to 180 degrees longitude and -65 to 75 degrees latitude. We can download the [Average, Visible, Stable Lights, & Cloud Free Coverages for 1992 and 2013](https://www.ngdc.noaa.gov/eog/data/web_data/v4composites/) and put them in the `data/Kenya_Tanzania` folder.\n",
        "\n",
        "::: \n",
        "\n",
        "::: callout-important\n",
        "You can also download the data [here](https://theuniversityofliverpool-my.sharepoint.com/:u:/g/personal/pietrost_liverpool_ac_uk/EX85foAh7ZBBtSZ64pxbFmsBStf8UX2uaLXE5MBYJt6PeQ?e=LMYu7d). You will need to be logged into your UoL account.\n",
        "\n",
        "The downloaded files are going to be in a **\"TAR\" format**. A TAR file is an archive created by tar, a Unix-based utility used to package files together for backup or distribution purposes. It contains multiple files stored in an uncompressed format along with metadata about the archive. Tars files are also used to reduce files' size. TAR archives compressed with GNU Zip compression may become GZ, .TAR.GZ, or .TGZ files. We need to decompress them before using them.\n",
        ":::\n",
        "\n",
        "Before you move forward **download the data for 1992 and 2013.** It is also good practice to create a scratch folder where you do all your unzipping."
      ]
    },
    {
      "cell_type": "code",
      "metadata": {},
      "source": [
        "# Load the raster files\n",
        "raster1_path = 'data/Kenya_Tanzania/F101992.v4b_web.stable_lights.avg_vis.tif'\n",
        "raster2_path = 'data/Kenya_Tanzania/F182013.v4c_web.stable_lights.avg_vis.tif'\n",
        "\n",
        "# Open the raster files\n",
        "with rasterio.open(raster1_path) as src1:\n",
        "    raster1 = src1.read(1)  # Read the first (and only) band\n",
        "\n",
        "with rasterio.open(raster2_path) as src2:\n",
        "    raster2 = src2.read(1)  # Read the first (and only) band\n",
        "    \n",
        "    # Stack the rasters along a new axis (depth axis)\n",
        "stacked_rasters = np.stack([raster1, raster2], axis=0)"
      ],
      "execution_count": null,
      "outputs": []
    },
    {
      "cell_type": "code",
      "metadata": {},
      "source": [
        "# Create a plot\n",
        "fig, (ax1, ax2) = plt.subplots(1, 2, figsize=(8, 8))\n",
        "\n",
        "# Plot the first raster\n",
        "ax1.imshow(stacked_rasters[0], cmap='cividis')\n",
        "ax1.set_title('1992')\n",
        "ax1.axis('off')\n",
        "\n",
        "# Plot the second raster\n",
        "ax2.imshow(stacked_rasters[1], cmap='cividis')\n",
        "ax2.set_title('2013')\n",
        "ax2.axis('off')\n",
        "\n",
        "# Show the plot\n",
        "plt.tight_layout()\n",
        "plt.show()"
      ],
      "execution_count": null,
      "outputs": []
    },
    {
      "cell_type": "markdown",
      "metadata": {},
      "source": [
        "Why can’t you see much? Discuss with the person next to you.\n",
        "\n",
        "### **Country shapefiles**\n",
        "\n",
        "The second step is to download the shapefiles for Kenya and Tanzania. GADM has made available national and subnational shapefiles for the world. The zips you download, such as *gadm36_KEN_shp.zip* from GADM should be placed in the **Kenya_Tanzania** folder. This is the link [gadm](https://gadm.org/formats.html)."
      ]
    },
    {
      "cell_type": "code",
      "metadata": {},
      "source": [
        "# Set the data folder path\n",
        "datafolder = 'data'\n",
        "\n",
        "# List the country shapefiles downloaded from the GADM website\n",
        "files = [os.path.join(root, file)\n",
        "         for root, dirs, files in os.walk(os.path.join(datafolder, \"Kenya_Tanzania\"))\n",
        "         for file in files if file.endswith(\"_shp.zip\")]\n",
        "\n",
        "print(files)\n",
        "\n",
        "# Create a scratch folder\n",
        "scratch_folder = os.path.join(datafolder, \"Kenya_Tanzania\", \"scratch\")\n",
        "os.makedirs(scratch_folder, exist_ok=True)\n",
        "\n",
        "# Unzip the files\n",
        "for file in files:\n",
        "    with zipfile.ZipFile(file, 'r') as zip_ref:\n",
        "        zip_ref.extractall(scratch_folder)\n",
        "\n",
        "# List GADM shapefiles\n",
        "gadm_files = [os.path.join(root, file)\n",
        "              for root, dirs, files in os.walk(os.path.join(datafolder, \"Kenya_Tanzania\"))\n",
        "              for file in files if file.startswith(\"gadm\")]\n",
        "\n",
        "print(gadm_files)\n",
        "\n",
        "# Select regional level 2 files\n",
        "gadm_files_level2 = [file for file in gadm_files if \"2.shp\" in file]\n",
        "print(gadm_files_level2)\n",
        "\n",
        "# Load the shapefiles\n",
        "shps = [gpd.read_file(shp) for shp in gadm_files_level2]\n",
        "print(shps)\n",
        "\n",
        "# Delete the scratch folder with the data we don't need\n",
        "#shutil.rmtree(scratch_folder)"
      ],
      "execution_count": null,
      "outputs": []
    },
    {
      "cell_type": "markdown",
      "metadata": {},
      "source": [
        "### **Merge Shapefiles**\n",
        "\n",
        "Even though it is not necessary here, we can merge the shapefile to visualize all the regions at once.\n",
        "\n",
        "When doing zonal statistics, it is faster and easier to process one country at a time and then combine the resulting tables. If you have access to a computer with multiple cores, it is also possible to do \"parallel processing\" to process each chunk at the same time in parallel."
      ]
    },
    {
      "cell_type": "code",
      "metadata": {},
      "source": [
        "# Merge all shapefiles into one GeoDataFrame\n",
        "merged_countries = gpd.GeoDataFrame(pd.concat(shps, ignore_index=True))\n",
        "\n",
        "# Optionally, reset index if needed\n",
        "merged_countries = merged_countries.reset_index(drop=True)"
      ],
      "execution_count": null,
      "outputs": []
    },
    {
      "cell_type": "markdown",
      "metadata": {},
      "source": [
        "We can then plot Kenya and Tanzania at Regional Level 2:"
      ]
    },
    {
      "cell_type": "code",
      "metadata": {},
      "source": [
        "# Plot all shapefiles\n",
        "fig, ax = plt.subplots(figsize=(10, 10))\n",
        "\n",
        "merged_countries.plot(ax=ax, edgecolor='k', facecolor='none', linewidth=1)  # No fill color\n",
        "\n",
        "#for gdf in shps:\n",
        "#    gdf.plot(ax=ax, edgecolor='k', facecolor='none', alpha=0.5)  # Adjust alpha and edgecolor as needed\n",
        "\n",
        "# Set plot title and labels\n",
        "ax.set_title('Regional Level 2 Shapefiles')\n",
        "ax.set_xlabel('Longitude')\n",
        "ax.set_ylabel('Latitude')\n",
        "\n",
        "# Show plot\n",
        "plt.show()"
      ],
      "execution_count": null,
      "outputs": []
    },
    {
      "cell_type": "markdown",
      "metadata": {},
      "source": [
        "### **Zonal statistics**\n",
        "\n",
        "We use the module `rasterstats` to calculate the sum and average nighttime for each region. The nighttime lights rasters are quite large, but as we do not need to do any operations on them (e.g. calculations using the overlay function, cropping or masking to the shapefiles extent), the process should be relatively fast."
      ]
    },
    {
      "cell_type": "code",
      "metadata": {},
      "source": [
        "# Calculate zonal statistics for the first raster (1992)\n",
        "stats_1992 = zonal_stats(merged_countries, raster1_path, stats=['sum', 'mean'], nodata=-9999, geojson_out=True)\n",
        "\n",
        "# Calculate zonal statistics for the second raster (2013)\n",
        "stats_2013 = zonal_stats(merged_countries, raster2_path, stats=['sum', 'mean'], nodata=-9999, geojson_out=True)\n",
        "\n",
        "# Convert the zonal stats results to GeoDataFrames, retaining geometry and attributes\n",
        "stats_1992_gdf = gpd.GeoDataFrame.from_features(stats_1992)\n",
        "stats_2013_gdf = gpd.GeoDataFrame.from_features(stats_2013)\n",
        "\n",
        "# Optionally, add a year column to distinguish between them\n",
        "stats_1992_gdf['year'] = 1992\n",
        "stats_1992_gdf['year'] = 2013\n",
        "\n",
        "# Combine the results into a single DataFrame\n",
        "combined_stats_gdf = pd.concat([stats_1992_gdf, stats_2013_gdf], ignore_index=True)\n",
        "\n",
        "# Display the results\n",
        "print(combined_stats_gdf.head())"
      ],
      "execution_count": null,
      "outputs": []
    },
    {
      "cell_type": "markdown",
      "metadata": {},
      "source": [
        "More on zonal stats in python [here](https://pythonhosted.org/rasterstats/manual.html#zonal-statistics).\n",
        "\n",
        "### **Visualize**\n",
        "\n",
        "Let's have a first look at our result."
      ]
    },
    {
      "cell_type": "code",
      "metadata": {},
      "source": [
        "# Create a figure with two subplots side by side\n",
        "fig, (ax1, ax2) = plt.subplots(1, 2, figsize=(8, 6))\n",
        "\n",
        "# Plot for 1992 with inverted colormap\n",
        "stats_1992_gdf.plot(column='mean', cmap='YlGnBu_r', legend=True, ax=ax1)\n",
        "ax1.set_title(\"Mean 1992\")\n",
        "ax1.axis('off')\n",
        "\n",
        "# Plot for 2013 with inverted colormap\n",
        "stats_2013_gdf.plot(column='mean', cmap='YlGnBu_r', legend=True, ax=ax2)\n",
        "ax2.set_title(\"Mean 2013\")\n",
        "ax2.axis('off')\n",
        "\n",
        "# Adjust layout\n",
        "plt.tight_layout()\n",
        "\n",
        "# Show the plots\n",
        "plt.show()"
      ],
      "execution_count": null,
      "outputs": []
    },
    {
      "cell_type": "markdown",
      "metadata": {},
      "source": [
        "Most of the Kenya and Tanzania have really low values. To make the maps tell a story, we can use fixed breaks. "
      ]
    },
    {
      "cell_type": "code",
      "metadata": {},
      "source": [
        "# Define breaks and labels\n",
        "breaks = [0, 0.05, 0.1, 2, 63]\n",
        "labels = ['0-0.05', '0.05-0.1', '0.1-2', '2-63']\n",
        "\n",
        "# Create a custom colormap and normalization\n",
        "cmap = plt.get_cmap('YlGnBu_r')\n",
        "norm = mcolors.BoundaryNorm(breaks, cmap.N)\n",
        "\n",
        "# Create a figure with two subplots side by side\n",
        "fig, (ax1, ax2) = plt.subplots(1, 2, figsize=(8, 6))\n",
        "\n",
        "# Plot for 1992 with custom colormap and breaks\n",
        "stats_1992_gdf.plot(column='mean', cmap=cmap, norm=norm, legend=False, ax=ax1)\n",
        "ax1.set_title(\"Mean 1992\")\n",
        "ax1.axis('off')\n",
        "\n",
        "# Plot for 2013 with custom colormap and breaks\n",
        "stats_2013_gdf.plot(column='mean', cmap=cmap, norm=norm, legend=False, ax=ax2)\n",
        "ax2.set_title(\"Mean 2013\")\n",
        "ax2.axis('off')\n",
        "\n",
        "# Add a colorbar to the figure\n",
        "cbar = fig.colorbar(plt.cm.ScalarMappable(norm=norm, cmap=cmap), ax=[ax1, ax2], orientation='horizontal', fraction=0.05, pad=0.18, aspect=12)\n",
        "\n",
        "# Set ticks and labels to match the breaks\n",
        "#cbar.set_ticks(breaks)\n",
        "#cbar.set_ticklabels(labels)\n",
        "\n",
        "# Adjust layout\n",
        "plt.tight_layout()\n",
        "\n",
        "# Show the plots\n",
        "plt.show()"
      ],
      "execution_count": null,
      "outputs": []
    },
    {
      "cell_type": "markdown",
      "metadata": {},
      "source": [
        "Have a think about what the data is telling you. What's the story?\n",
        "\n",
        "We can also make it interactive with `folium` and `folium.plugins` `DualMap` but this is a bit more complicated in `python` and will be covered in [Web Mapping and Visualiation](https://gdsl-ul.github.io/wma/labs/w04_interactive.html).\n",
        "\n",
        "\n",
        "## Resources\n",
        "\n",
        "-   [Python Open Source Spatial Programming & Remote Sensing](https://pygis.io/docs/e_interpolation.html)\n",
        "\n",
        "- [Remote Sensing with Python](https://worldbank.github.io/OpenNightLights/welcome.html)\n",
        "\n",
        "- [Black Marble in Python](https://blogs.worldbank.org/en/opendata/illuminating-insights-harnessing-nasas-black-marble-r-and-python-packages)\n",
        "\n",
        "<!--\n",
        "problem installing richdem\n",
        "\n",
        "https://www.earthdatascience.org/tutorials/get-slope-aspect-from-digital-elevation-model/\n",
        "-->"
      ]
    }
  ],
  "metadata": {
    "kernelspec": {
      "name": "python3",
      "language": "python",
      "display_name": "Python 3 (ipykernel)"
    }
  },
  "nbformat": 4,
  "nbformat_minor": 4
}