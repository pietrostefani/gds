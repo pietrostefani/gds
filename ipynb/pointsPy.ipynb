{
  "cells": [
    {
      "cell_type": "markdown",
      "metadata": {},
      "source": [
        "# Lab in Python {#sec-pointslabPy .unnumbered}\n",
        "\n",
        "## Points\n",
        "\n",
        "Points are spatial entities that can be understood in two fundamentally different ways. On the one hand, points can be seen as fixed objects in space, which is to say their location is taken as given (exogenous). In this case, analysis of points is very similar to that of other types of spatial data such as polygons and lines. On the other hand, points can be seen as the occurence of an event that could theoretically take place anywhere but only manifests in certain locations. This is the approach we will adopt in the rest of the notebook.\n",
        "\n",
        "When points are seen as events that could take place in several locations but only happen in a few of them, a collection of such events is called a point pattern. In this case, the location of points is one of the key aspects of interest for analysis. A good example of a point pattern is crime events in a city: they could technically happen in many locations but we usually find crimes are committed only in a handful of them. Point patterns can be marked, if more attributes are provided with the location, or unmarked, if only the coordinates of where the event occured are provided. Continuing the crime example, an unmarked pattern would result if only the location where crimes were committed was used for analysis, while we would be speaking of a marked point pattern if other attributes, such as the type of crime, the extent of the damage, etc. was provided with the location.\n",
        "\n",
        "Point pattern analysis is thus concerned with the description, statistical characerisation, and modeling of point patterns, focusing specially on the generating process that gives rise and explains the observed data. What's the nature of the distribution of points? Is there any structure we can statistically discern in the way locations are arranged over space? Why do events occur in those places and not in others? These are all questions that point pattern analysis is concerned with.\n",
        "\n",
        "This notebook aims to be a gentle introduction to working with point patterns in `Python`. As such, it covers how to read, process and transform point data, as well as several common ways to visualize point patterns.\n",
        "\n",
        "## Importing Modules"
      ]
    },
    {
      "cell_type": "code",
      "metadata": {},
      "source": [
        "import pandas as pd # data manipulation and analysis.\n",
        "import geopandas as gpd # spatial data operations \n",
        "from shapely.geometry import Point, Polygon # handling geometric points\n",
        "import numpy as np # multi-dimensional arrays and matrices\n",
        "\n",
        "\n",
        "# Creating static, animated, and interactive visualizations in Python.\n",
        "import matplotlib.pyplot as plt\n",
        "from matplotlib.colors import LinearSegmentedColormap\n",
        "from matplotlib import cm\n",
        "\n",
        "import seaborn as sns # drawing attractive statistical graphics.\n",
        "\n",
        "# Adding basemaps\n",
        "import contextily as cx # adding basemaps\n",
        "\n",
        "# sklearn.cluster - a module in the Scikit-Learn library (sklearn) used for clustering (unsupervised learning)\n",
        "from sklearn import metrics\n",
        "from sklearn.cluster import DBSCAN\n",
        "from sklearn.neighbors import NearestNeighbors\n",
        "\n",
        "#ESDA: Exploratory Spatial Data Analysis\n",
        "from esda.adbscan import ADBSCAN, get_cluster_boundary, remap_lbls"
      ],
      "execution_count": null,
      "outputs": []
    },
    {
      "cell_type": "markdown",
      "metadata": {},
      "source": [
        "## Data\n",
        "\n",
        "We are going to continue with Airbnb data in a different part of the world.\n",
        "\n",
        "### Airbnb Buenos Aires\n",
        "\n",
        "Let's read in the point dataset:"
      ]
    },
    {
      "cell_type": "code",
      "metadata": {},
      "source": [
        "# read the Airbnb listing\n",
        "listings = pd.read_csv(\"data/BuenosAires/listings_nooutliers.csv\")\n",
        "\n",
        "# Show summary statistics of the dataset\n",
        "print(listings.describe())"
      ],
      "execution_count": null,
      "outputs": []
    },
    {
      "cell_type": "markdown",
      "metadata": {},
      "source": [
        "Let's finish preparing it, note the CRS."
      ]
    },
    {
      "cell_type": "code",
      "metadata": {},
      "source": [
        "# Locate the longitude and latitude\n",
        "print(listings.columns)\n",
        "\n",
        "# Use columns 'longitude' and 'latitude' respectively\n",
        "listings_gdf = gpd.GeoDataFrame(\n",
        "    listings, geometry=gpd.points_from_xy(listings.longitude, listings.latitude), crs=\"EPSG:4326\"\n",
        ")"
      ],
      "execution_count": null,
      "outputs": []
    },
    {
      "cell_type": "markdown",
      "metadata": {},
      "source": [
        "### Adminstrative Areas\n",
        "\n",
        "We will later use administrative areas for aggregation. Let's load them."
      ]
    },
    {
      "cell_type": "code",
      "metadata": {},
      "source": [
        "# We will later use administrative areas for aggregation. Let's load them.\n",
        "BA = gpd.read_file(\"data/BuenosAires/neighbourhoods_BA.shp\")"
      ],
      "execution_count": null,
      "outputs": []
    },
    {
      "cell_type": "markdown",
      "metadata": {},
      "source": [
        "### Spatial Join"
      ]
    },
    {
      "cell_type": "code",
      "metadata": {},
      "source": [
        "# Perform spatial overlay between points and polygons\n",
        "listings_BA = listings_gdf.sjoin(BA, how=\"inner\", predicate='intersects')\n",
        "\n",
        "# Read the first lines of the attribute table\n",
        "print(listings_BA.head())"
      ],
      "execution_count": null,
      "outputs": []
    },
    {
      "cell_type": "markdown",
      "metadata": {},
      "source": [
        "-   `.sjoin(BA, how=\"inner\", predicate='intersects')`: This function performs a spatial join between listings_gdf and BA where:\n",
        "    -   `how=\"inner\"` ensures that only matching records (where the spatial relationship is true) are included.\n",
        "    -   `predicate='intersects'` specifies that the join condition is based on whether the geometries intersect.\n",
        "\n",
        "## One-to-one\n",
        "\n",
        "The first approach we review here is the one-to-one approach, where we place a dot on the screen for every point to visualise. In order to actually see all the neighbourhood names we need to do a bit of formatting work."
      ]
    },
    {
      "cell_type": "code",
      "metadata": {},
      "source": [
        "# Assuming 'neighbourhood' is a column in your listings_gdf GeoDataFrame\n",
        "# Plot the GeoDataFrame with neighborhoods colored differently\n",
        "\n",
        "fig, ax = plt.subplots(figsize=(15, 5))\n",
        "\n",
        "listings_gdf.plot(column='neighbourhood', ax=ax, legend=True, cmap='Set1',\n",
        "                  legend_kwds={'loc': 'center left', 'bbox_to_anchor': (1.2, 0.5), 'fontsize': 'x-small', 'ncol': 2, \"fmt\": \"{:.0f}\"})\n",
        "\n",
        "# Set plot title and labels\n",
        "ax.set_title('Airbnb Listings by Neighbourhood', fontsize=15)\n",
        "ax.set_xlabel('Longitude')\n",
        "ax.set_ylabel('Latitude')\n",
        "\n",
        "# Adjust the subplot parameters to give more space for the legend\n",
        "plt.subplots_adjust(right=0.5)\n",
        "\n",
        "# Show the plot\n",
        "plt.show()"
      ],
      "execution_count": null,
      "outputs": []
    },
    {
      "cell_type": "markdown",
      "metadata": {},
      "source": [
        "-   `figsize=(35, 10)` : create different spaces for map and legend part of image\n",
        "-   `legend_kwds` : This dictionary allows you to customize the legend's position and appearance.\n",
        "    -   `loc='center left'`: Positions the legend on the center left of the bounding box.\n",
        "    -   `bbox_to_anchor=(1.2, 0.5)`: Moves the legend outside the plot area to the right. The (1.2, 0.5) specifies that the anchor point of the legend is placed at 120% (right edge) on the x-axis and 50% (center) on the y-axis of the bounding box.\n",
        "    -   `fontsize='x-small'`: This reduces the size of the text in the legend. You can use specific sizes like 'small', 'x-small', 'medium', or specify a numeric value (e.g., fontsize=8).\n",
        "    -   `'ncol': 2`: This specifies that the legend should be displayed in two columns. You can adjust this number to display more or fewer columns as needed.\n",
        "\n",
        "We can visualise a bit better with a basemap"
      ]
    },
    {
      "cell_type": "code",
      "metadata": {},
      "source": [
        "# If it's not already, convert it using `to_crs(epsg=3857)`\n",
        "listings_gdf_3857 = listings_gdf.to_crs(epsg=3857)\n",
        "\n",
        "# Assuming `listings_gdf` is your GeoDataFrame and it's already loaded with data\n",
        "fig, ax = plt.subplots(figsize=(15, 5))\n",
        "\n",
        "# Plot the GeoDataFrame\n",
        "listings_gdf_3857.plot(column='neighbourhood', ax=ax, legend=False, cmap='Set1')\n",
        "\n",
        "# Add basemap using contextily\n",
        "# Note: The GeoDataFrame needs to be in Web Mercator projection for contextily basemaps\n",
        "\n",
        "#listings_gdf = listings_gdf.to_crs(epsg=3857)\n",
        "cx.add_basemap(ax, crs=listings_gdf_3857.crs.to_string())\n",
        "cx.add_basemap(\n",
        "    ax, \n",
        "    crs=\"EPSG:3857\",\n",
        "    source=cx.providers.CartoDB.Positron\n",
        ")\n",
        "\n",
        "# Set plot title and labels\n",
        "ax.set_title('Airbnb Listings by Neighbourhood', fontsize=15)\n",
        "ax.set_xlabel('Longitude')\n",
        "ax.set_ylabel('Latitude')\n",
        "\n",
        "# Show the plot\n",
        "plt.show()"
      ],
      "execution_count": null,
      "outputs": []
    },
    {
      "cell_type": "markdown",
      "metadata": {},
      "source": [
        "## Points meet polygons\n",
        "\n",
        "The approach presented above works until a certain number of points to plot; tweaking dot transparency and size only gets us so far and, at some point, we need to shift the focus. Having learned about visualizing lattice (polygon) data, an option is to \"turn\" points into polygons and apply techniques like choropleth mapping to visualize their spatial distribution. To do that, we will overlay a polygon layer on top of the point pattern, join the points to the polygons by assigning to each point the polygon where they fall into, and create a choropleth of the counts by polygon.\n",
        "\n",
        "This approach is intuitive but of course raises the following question: what polygons do we use to aggregate the points? Ideally, we want a boundary delineation that matches as closely as possible the point generating process and partitions the space into areas with a similar internal intensity of points. However, that is usually not the case, no less because one of the main reasons we typically want to visualize the point pattern is to learn about such generating process, so we would typically not know a priori whether a set of polygons match it. If we cannot count on the ideal set of polygons to begin with, we can adopt two more realistic approaches: using a set of pre-existing irregular areas or create a artificial set of regular polygons. Let's explore both.\n",
        "\n",
        "### Irregular lattices\n",
        "\n",
        "To exemplify this approach, we will use the administrative areas we have loaded above. Let's add them to the figure above to get better context (unfold the code if you are interested in seeing exactly how we do this):"
      ]
    },
    {
      "cell_type": "code",
      "metadata": {},
      "source": [
        "# Plot the administrative boundaries (BA) and listings with neighborhoods colored differently\n",
        "fig, ax = plt.subplots(figsize=(5, 5))\n",
        "\n",
        "# Plot the BA GeoDataFrame with no fill and a specific line size\n",
        "BA.plot(ax=ax, edgecolor='black', linewidth=1.5, facecolor='none')\n",
        "\n",
        "# Plot the listings with neighborhoods colored differently, specific point size, and transparency\n",
        "listings_gdf.plot(column='neighbourhood', ax=ax, cmap='Set1', markersize=5, alpha=0.5)\n",
        "\n",
        "# Set plot title and labels\n",
        "ax.set_title('Airbnb Listings and Administrative Areas', fontsize=15)\n",
        "ax.set_xlabel('Longitude')\n",
        "ax.set_ylabel('Latitude')\n",
        "\n",
        "# Show the plot\n",
        "plt.show()"
      ],
      "execution_count": null,
      "outputs": []
    },
    {
      "cell_type": "markdown",
      "metadata": {},
      "source": [
        "Now we need to know how many airbnb each area contains."
      ]
    },
    {
      "cell_type": "code",
      "metadata": {},
      "source": [
        "# Aggregate at district level\n",
        "listings_BA_agg = listings_BA.groupby(['neighbourh']).agg(\n",
        "    count_airbnb=('price', 'size'),  # count number of sales\n",
        "    mean_price=('price', 'mean')    # calculate average price\n",
        ").reset_index()\n",
        "\n",
        "# Merge the aggregated data back with the original GeoDataFrame to retain geometry\n",
        "airbnb_neigh_agg = BA[['neighbourh', 'geometry']].drop_duplicates().merge(\n",
        "    listings_BA_agg, on='neighbourh'\n",
        ")"
      ],
      "execution_count": null,
      "outputs": []
    },
    {
      "cell_type": "markdown",
      "metadata": {},
      "source": [
        "The lines above have created a new column in our table called `count_airbnb` that contains the number of airbnb that have been taken within each of the polygons in the table. `mean_price` shows the mean price per neighbourhood.\n",
        "\n",
        "At this point, we are ready to map the counts. Technically speaking, this is a choropleth just as we have seen many times before:"
      ]
    },
    {
      "cell_type": "code",
      "metadata": {},
      "source": [
        "# Create a figure and axis for plotting\n",
        "fig, ax = plt.subplots(figsize=(5, 5))\n",
        "\n",
        "# Reverse the 'viridis' colormap\n",
        "viridis = plt.get_cmap('viridis')\n",
        "viridis_reversed = viridis.reversed()\n",
        "\n",
        "# Plot the geometries with fill color based on 'count_airbnb' and a white border\n",
        "airbnb_neigh_agg.plot(column='count_airbnb', ax=ax, edgecolor='white', cmap=viridis_reversed, legend=True)\n",
        "\n",
        "# Add text labels at the centroids of the districts\n",
        "for idx, row in airbnb_neigh_agg.iterrows():\n",
        "    centroid = row['geometry'].centroid\n",
        "    ax.text(centroid.x, centroid.y, row['neighbourh'], fontsize=5, ha='center')\n",
        "\n",
        "# Set the title\n",
        "ax.set_title(\"Count of Airbnbs by Neighbourhood\")\n",
        "\n",
        "# Remove axis\n",
        "ax.set_axis_off()\n",
        "\n",
        "# Show the plot\n",
        "plt.show()"
      ],
      "execution_count": null,
      "outputs": []
    },
    {
      "cell_type": "markdown",
      "metadata": {},
      "source": [
        "The map above clearly shows a concentration of airbnb in the neighbourhoods of Palermo and Recoleta. However, it is important to remember that the map is showing raw counts. In the case of airbnbs, as with many other phenomena, it is crucial to keep in mind the “container geography” (MAUP). In this case, different administrative areas have different sizes. Everything else equal, a larger polygon may contain more photos, simply because it covers a larger space. To obtain a more accurate picture of the intensity of photos by area, what we would like to see is a map of the density of photos, not of raw counts. To do this, we can divide the count per polygon by the area of the polygon.\n",
        "\n",
        "Let’s first calculate the area in Sq. metres of each administrative delineation:"
      ]
    },
    {
      "cell_type": "code",
      "metadata": {},
      "source": [
        "# Convert CRS to EPSG:22176 for Argentina\n",
        "airbnb_neigh_agg_proj = airbnb_neigh_agg.to_crs(epsg=22176)\n",
        "\n",
        "# Calculate area in square kilometers and add it to the DataFrame\n",
        "airbnb_neigh_agg_proj['area_km2'] = airbnb_neigh_agg_proj.geometry.area / 1e6  # Convert area to square kilometers\n",
        "\n",
        "# Calculate density\n",
        "airbnb_neigh_agg_proj['density'] = airbnb_neigh_agg_proj['count_airbnb'] / airbnb_neigh_agg_proj['area_km2']"
      ],
      "execution_count": null,
      "outputs": []
    },
    {
      "cell_type": "markdown",
      "metadata": {},
      "source": [
        "With the density at hand, creating the new choropleth is similar as above:"
      ]
    },
    {
      "cell_type": "code",
      "metadata": {},
      "source": [
        "# Create a figure and axis for plotting\n",
        "fig, ax = plt.subplots(figsize=(5, 5))\n",
        "# Reverse the 'viridis' colormap\n",
        "viridis = plt.get_cmap('viridis')\n",
        "viridis_reversed = viridis.reversed()\n",
        "# Plot the geometries with fill color based on 'count_airbnb' and a white border\n",
        "airbnb_neigh_agg_proj.plot(column='density', ax=ax, edgecolor='white', cmap=viridis_reversed, legend=True)\n",
        "# Set the title\n",
        "ax.set_title(\"Density of Airbnbs by Neighbourhood\")\n",
        "# Remove axis\n",
        "ax.set_axis_off()\n",
        "# Show the plot\n",
        "plt.show()"
      ],
      "execution_count": null,
      "outputs": []
    },
    {
      "cell_type": "markdown",
      "metadata": {},
      "source": [
        "We can see some significant differences. Why is that? Have a chat with the person next to you.\n",
        "\n",
        "### Regular lattices: hex-binning\n",
        "\n",
        "Sometimes we either do not have any polygon layer to use or the ones we have are not particularly well suited to aggregate points into them. In these cases, a sensible alternative is to create an artificial topology of polygons that we can use to aggregate points. There are several ways to do this but the most common one is to create a grid of hexagons. This provides a regular topology (every polygon is of the same size and shape) that, unlike circles, cleanly exhausts all the space without overlaps and has more edges than squares, which alleviates edge problems.\n",
        "\n",
        "::: callout-important\n",
        "If you are still still not sure on the difference between geographic coordinate systems and projected coordinated system go back to Lecture 1.\n",
        ":::\n",
        "\n",
        "First we need to make sure we are in a projected coordinated system:"
      ]
    },
    {
      "cell_type": "code",
      "metadata": {},
      "source": [
        "# Reproject the administrative areas to the CRS for Argentina (EPSG:22176)\n",
        "BA_proj =  BA.to_crs(epsg=22176)\n",
        "\n",
        "# Reproject the listings to match the CRS of the administrative areas\n",
        "listings_proj =  listings_gdf.to_crs(epsg=22176)"
      ],
      "execution_count": null,
      "outputs": []
    },
    {
      "cell_type": "markdown",
      "metadata": {},
      "source": [
        "Then we create a grid that's 500 metre by 500 metres. We need to be in a projected coordinate system for this to work.\n",
        "\n",
        "Python has a simplified way to create this hexagon layer and aggregate points into it in one shot thanks to the method `hexbin`, which is available in every axis object (e.g. `ax`). Let us first see how you could create a map of the hexagon layer alone:"
      ]
    },
    {
      "cell_type": "code",
      "metadata": {},
      "source": [
        "# Setup figure and axis\n",
        "f, ax = plt.subplots(1, figsize=(5, 5))\n",
        "# Add hexagon layer that displays count of points in each polygon\n",
        "hb = ax.hexbin(\n",
        "    listings_proj[\"longitude\"], \n",
        "    listings_proj[\"latitude\"], \n",
        "    gridsize=50, \n",
        ")\n",
        "# Add a colorbar (optional)\n",
        "plt.colorbar(hb)\n",
        "# Show the plot\n",
        "plt.show()"
      ],
      "execution_count": null,
      "outputs": []
    },
    {
      "cell_type": "markdown",
      "metadata": {},
      "source": [
        "Let's unpack the coded here:\n",
        "\n",
        "-   Call `hexbin` directly using the set of coordinate columns `listings_proj[\"longitude\"]` and `listings_proj[\"latitude\"]`.\n",
        "-   Additional arguments we include is the number of hexagons by axis (gridsize, 50 for a 50 by 50 layer), and the transparency we want (80%).\n",
        "-   Additionally, we include a colorbar to get a sense of how counts are mapped to colors. Note that we need to pass the name of the object that includes the `hexbin` (hb in our case), but keep in mind this is optional, you do not need to always create one.\n",
        "\n",
        "You could also add a basemap to visualise the results better as we've done in other code snippets.\n",
        "\n",
        "## Kernel Density Estimation\n",
        "\n",
        "Using a hexagonal binning can be a quick solution when we do not have a good polygon layer to overlay the points directly and some of its properties, such as the equal size of each polygon, can help alleviate some of the problems with a \"bad\" irregular topology (one that does not fit the underlying point generating process). However, it does not get around the issue of the modifiable areal unit problem [M.A.U.P.](https://pietrostefani.github.io/gds/mapvector.html): at the end of the day, we are still imposing arbitrary boundary lines and aggregating based on them, so the possibility of mismatch with the underlying distribution of the point pattern is very real.\n",
        "\n",
        "One way to work around this problem is to avoid aggregating into another geography altogether. Instead, we can aim at estimating the continuous observed probability distribution. The most commonly used method to do this is the so called kernel density estimate (KDE). The idea behind KDEs is to count the number of points in a continious way. Instead of using discrete counting, where you include a point in the count if it is inside a certain boundary and ignore it otherwise, KDEs use functions (kernels) that include points but give different weights to each one depending of how far of the location where we are counting the point is.\n",
        "\n",
        "### Kernel densities\n",
        "\n",
        "The actual algorithm to estimate a kernel density is not trivial but its application in Python is rather simplified by the use of `seaborn`. KDE’s however are fairly computationally intensive. When you have a large point pattern like we do in the Buenos Aires example (18,572 points), its computation can take a bit long. To get around this issue, you can create a random subset, which retains the overall structure of the pattern, but with much fewer points. Let’s take a subset of 1,000 random points from our original table:"
      ]
    },
    {
      "cell_type": "code",
      "metadata": {},
      "source": [
        "# Take a random subset of 1,000 rows from `buenos aires listings`\n",
        "listings_proj_sub = listings_proj.sample(1000, random_state=12345)"
      ],
      "execution_count": null,
      "outputs": []
    },
    {
      "cell_type": "markdown",
      "metadata": {},
      "source": [
        "-   Note we need to specify the size of the resulting subset (1,000), and we also add a value for `random_state`; this ensures that the sample is always the same and results are thus reproducible.\n",
        "\n",
        "Same as above, let us first see how to create a quick KDE. For this we rely on `seaborn`’s `kdeplot`:"
      ]
    },
    {
      "cell_type": "code",
      "metadata": {},
      "source": [
        "# Setup figure and axis\n",
        "f, ax = plt.subplots(1, figsize=(5, 5))\n",
        "# using kdeplot\n",
        "sns.kdeplot(\n",
        "    x=\"longitude\", \n",
        "    y=\"latitude\",\n",
        "    data=listings_proj,\n",
        "    n_levels=50, \n",
        "    fill=True, \n",
        "    cmap='BuPu'\n",
        ");\n",
        "# Show the plot\n",
        "plt.show()"
      ],
      "execution_count": null,
      "outputs": []
    },
    {
      "cell_type": "markdown",
      "metadata": {},
      "source": [
        "-   `Seaborn` greatly streamlines the process and boils it down to a single line.\n",
        "-   The method `sns.kdeplot` (which we can also use to create a KDE of a single variable) takes the X and Y coordinate of the points as the only compulsory attributes.\n",
        "-   In addition, we specify the number of levels we want the color gradient to have (`n_levels`), whether we want to color the space in between each level (share, yes), and the `colormap` of choice.\n",
        "\n",
        "Once we know how the basic logic works, we can insert it into the usual mapping machinery to create a more complete plot. The main difference here is that we now have to tell `sns.kdeplot` where we want the surface to be added (ax in this case). Toggle the expandable to find out the code that produces the figure below:"
      ]
    },
    {
      "cell_type": "code",
      "metadata": {},
      "source": [
        "# Setup figure and axis\n",
        "f, ax = plt.subplots(1, figsize=(5, 5))\n",
        "# Add KDE layer that displays probability surface\n",
        "sns.kdeplot(\n",
        "    x='longitude', \n",
        "    y='latitude', \n",
        "    data=listings, # because it is in 4326\n",
        "    n_levels=50, \n",
        "    fill=True,\n",
        "    alpha=0.25,\n",
        "    cmap=\"viridis\"\n",
        ")\n",
        "# Remove axis\n",
        "ax.set_axis_off()\n",
        "# Add basemap\n",
        "cx.add_basemap(\n",
        "    ax, \n",
        "    crs=\"EPSG:4326\",\n",
        "    source=cx.providers.CartoDB.DarkMatterNoLabels\n",
        ")\n",
        "# Add title of the map\n",
        "ax.set_title(\"KDE of airbnbs in Buenos Aires\")\n",
        "# Draw map\n",
        "plt.show()"
      ],
      "execution_count": null,
      "outputs": []
    },
    {
      "cell_type": "markdown",
      "metadata": {},
      "source": [
        "## Cluster of points (DBSCAN)\n",
        "\n",
        "Partitioning methods (K-means, PAM clustering) and hierarchical clustering are suitable for finding spherical-shaped clusters or convex clusters. In other words, they work well for compact and well separated clusters. Moreover, they are also severely affected by the presence of noise and outliers in the data.\n",
        "\n",
        "Unfortunately, real life data can contain: i) clusters of arbitrary shape ii) many outliers and noise.\n",
        "\n",
        "In this section, we will learn a method to identify clusters of points, based on their density across space. To do this, we will use the widely used `DBSCAN` algorithm. For this method, a cluster is a concentration of at least `m` points, each of them within a distance of `r` of at least another point in the cluster. Points in the dataset are then divided into three categories:\n",
        "\n",
        "-   *Noise*, for those points outside a cluster.\n",
        "-   *Cores*, for those points inside a cluster whith at least `m` points in the cluster within distance `r`.\n",
        "-   *Borders* for points inside a cluster with less than `m` other points in the cluster within distance `r`.\n",
        "\n",
        "Both `m` and `r` need to be prespecified by the user before running `DBSCAN`. This is a critical point, as their value can influence significantly the final result. Before exploring this in greater depth, let us get a first run at computing `DBSCAN` in Python. For more on this, check [here](https://scikit-learn.org/stable/modules/clustering.html).\n",
        "\n",
        "### The DBSCAN approach\n",
        "\n",
        "The heavy lifting is done by the method `DBSCAN`, part of the excellent machine learning library `scikit-learn`. We first set up the details:\n",
        "\n",
        "1. `eps`: maximum distance to look for neighbors from each location\n",
        "2. `min_samples`: minimum number of neighboring points required for a point to be considered part of a cluster"
      ]
    },
    {
      "cell_type": "code",
      "metadata": {},
      "source": [
        "# Set up algorithm\n",
        "algo = DBSCAN(eps=100, min_samples=50)"
      ],
      "execution_count": null,
      "outputs": []
    },
    {
      "cell_type": "markdown",
      "metadata": {},
      "source": [
        "We decide to consider a cluster of airbnb with more than 50 airbnbs within 100 metres from them, hence we set the two parameters accordingly. Once ready, we “fit” it to our data, but note that we first need to express the longitude and latitude of our points in metres. We have already projected to the Argentinian CRS but let's revise this."
      ]
    },
    {
      "cell_type": "code",
      "metadata": {},
      "source": [
        "## Express points in metres\n",
        "# Convert lon/lat into Point objects + set CRS\n",
        "pts = gpd.points_from_xy(\n",
        "    listings[\"longitude\"],\n",
        "    listings[\"latitude\"],\n",
        "    crs=\"EPSG:4326\"\n",
        ")\n",
        "# Convert lon/lat points to Buenos Aires CRS in metres\n",
        "pts = gpd.GeoDataFrame({\"geometry\": pts}).to_crs(epsg=22176)\n",
        "# Extract coordinates from point objects into columns\n",
        "listings[\"X_metres\"] = pts.geometry.x\n",
        "listings[\"Y_metres\"] = pts.geometry.y"
      ],
      "execution_count": null,
      "outputs": []
    },
    {
      "cell_type": "code",
      "metadata": {},
      "source": [
        "algo.fit(listings[[\"X_metres\", \"Y_metres\"]])"
      ],
      "execution_count": null,
      "outputs": []
    },
    {
      "cell_type": "markdown",
      "metadata": {},
      "source": [
        "Once fit, we can recover the labels:"
      ]
    },
    {
      "cell_type": "code",
      "metadata": {},
      "source": [
        "algo.labels_"
      ],
      "execution_count": null,
      "outputs": []
    },
    {
      "cell_type": "markdown",
      "metadata": {},
      "source": [
        "And the list of points classified as cores:"
      ]
    },
    {
      "cell_type": "code",
      "metadata": {},
      "source": [
        "# Print only the first five values\n",
        "algo.core_sample_indices_[:5]"
      ],
      "execution_count": null,
      "outputs": []
    },
    {
      "cell_type": "markdown",
      "metadata": {},
      "source": [
        "The `labels_` object always has the same length as the number of points used to run `DBSCAN`. Each value represents the index of the cluster a point belongs to. If the point is classified as noise, it receives a -1. Above, we can see that the first five points are effectively not part of any cluster. To make thinks easier later on, let us turn the labels into a `Series` object that we can index in the same way as our collection of points:"
      ]
    },
    {
      "cell_type": "code",
      "metadata": {},
      "source": [
        "lbls = pd.Series(algo.labels_, index=listings.index)"
      ],
      "execution_count": null,
      "outputs": []
    },
    {
      "cell_type": "markdown",
      "metadata": {},
      "source": [
        "Now we already have the clusters, we can proceed to visualize them. There are many ways in which this can be done. We will start just by coloring points in a cluster in red and noise in grey:"
      ]
    },
    {
      "cell_type": "code",
      "metadata": {},
      "source": [
        "# Setup figure and axis\n",
        "f, ax = plt.subplots(1, figsize=(6, 6))\n",
        "# Assign labels to tokyo table dynamically and\n",
        "# subset points that are not part of any cluster (noise)\n",
        "noise = listings.assign(\n",
        "    lbls=lbls\n",
        ").query(\"lbls == -1\")\n",
        "# Plot noise in grey\n",
        "ax.scatter(\n",
        "    noise[\"X_metres\"], \n",
        "    noise[\"Y_metres\"], \n",
        "    c='grey', \n",
        "    s=5, \n",
        "    linewidth=0\n",
        ")\n",
        "# Plot all points that are not noise in red\n",
        "# NOTE how this is done through some fancy indexing, where\n",
        "#      we take the index of all points (tw) and substract from\n",
        "#      it the index of those that are noise\n",
        "ax.scatter(\n",
        "    listings.loc[listings.index.difference(noise.index), \"X_metres\"], \n",
        "    listings.loc[listings.index.difference(noise.index), \"Y_metres\"],\n",
        "    c=\"red\", \n",
        "    linewidth=0\n",
        ")\n",
        "# Display the figure\n",
        "plt.show()"
      ],
      "execution_count": null,
      "outputs": []
    },
    {
      "cell_type": "markdown",
      "metadata": {},
      "source": [
        "This is a first good pass. The algorithm is able to identify a few clusters with high density of airbnbs. However, as we mentioned when discussing DBSCAN, this is all contingent on the parameters we arbitrarily set. Depending on the maximum radious (eps) we set, we will pick one type of cluster or another: a higher (lower) radious will translate in less (more) local clusters. Equally, the minimum number of points required for a cluster (min_samples) will affect the implicit size of the cluster. Both parameters need to be set before running the algorithm, so our decision will affect the final outcome quite significantly.\n",
        "\n",
        "For an illustration of this, let’s run through a case with very different parameter values. For example, let’s pick a larger radious (e.g. 250m) and a smaller number of points (e.g. 10):"
      ]
    },
    {
      "cell_type": "code",
      "metadata": {},
      "source": [
        "# Set up algorithm\n",
        "algo = DBSCAN(eps=200, min_samples=10)\n",
        "# Fit to Tokyo projected points\n",
        "algo.fit(listings[[\"X_metres\", \"Y_metres\"]])\n",
        "# Store labels\n",
        "lbls = pd.Series(algo.labels_, index=listings.index)"
      ],
      "execution_count": null,
      "outputs": []
    },
    {
      "cell_type": "markdown",
      "metadata": {},
      "source": [
        "And let’s now visualise the result (toggle the expandable to see the code):"
      ]
    },
    {
      "cell_type": "code",
      "metadata": {},
      "source": [
        "# Setup figure and axis\n",
        "f, ax = plt.subplots(1, figsize=(6, 6))\n",
        "# Assign labels to tokyo table dynamically and\n",
        "# subset points that are not part of any cluster (noise)\n",
        "noise = listings.assign(\n",
        "    lbls=lbls\n",
        ").query(\"lbls == -1\")\n",
        "# Plot noise in grey\n",
        "ax.scatter(\n",
        "    noise[\"X_metres\"], \n",
        "    noise[\"Y_metres\"], \n",
        "    c='grey', \n",
        "    s=5, \n",
        "    linewidth=0\n",
        ")\n",
        "# Plot all points that are not noise in red\n",
        "# NOTE how this is done through some fancy indexing, where\n",
        "#      we take the index of all points (tw) and substract from\n",
        "#      it the index of those that are noise\n",
        "ax.scatter(\n",
        "    listings.loc[listings.index.difference(noise.index), \"X_metres\"], \n",
        "    listings.loc[listings.index.difference(noise.index), \"Y_metres\"],\n",
        "    c=\"red\", \n",
        "    linewidth=0\n",
        ")\n",
        "# Display the figure\n",
        "plt.show()"
      ],
      "execution_count": null,
      "outputs": []
    },
    {
      "cell_type": "markdown",
      "metadata": {},
      "source": [
        "### The A-DBSCAN algorithm\n",
        "\n",
        "Once we know the parameters we’ll use, we can go ahead and run A-DBSCAN:"
      ]
    },
    {
      "cell_type": "code",
      "metadata": {},
      "source": [
        "ax = listings_gdf_3857.plot(markersize=0.1, color='orange')\n",
        "cx.add_basemap(ax, crs=listings_gdf_3857.crs.to_string(), source=cx.providers.CartoDB.Voyager);\n",
        "\n",
        "plt.show()"
      ],
      "execution_count": null,
      "outputs": []
    },
    {
      "cell_type": "markdown",
      "metadata": {},
      "source": [
        "Before we get going, we will also pull out the projected coordinates into separate columns:"
      ]
    },
    {
      "cell_type": "code",
      "metadata": {},
      "source": [
        "listings_gdf_3857[\"X\"] = listings_gdf_3857.geometry.x\n",
        "listings_gdf_3857[\"Y\"] = listings_gdf_3857.geometry.y"
      ],
      "execution_count": null,
      "outputs": []
    },
    {
      "cell_type": "code",
      "metadata": {},
      "source": [
        "# Get clusters\n",
        "adbs = ADBSCAN(150, 20, pct_exact=0.5, reps=10, keep_solus=True)\n",
        "np.random.seed(1234)\n",
        "adbs.fit(listings_gdf_3857)"
      ],
      "execution_count": null,
      "outputs": []
    },
    {
      "cell_type": "code",
      "metadata": {},
      "source": [
        "ax = listings_gdf_3857.assign(lbls=adbs.votes[\"lbls\"])\\\n",
        "       .plot(column=\"lbls\",\n",
        "             categorical=True,\n",
        "             markersize=2.5,\n",
        "             figsize=(8, 8)\n",
        "            )\n",
        "cx.add_basemap(ax, crs= listings_gdf_3857.crs.to_string(), source=cx.providers.CartoDB.Voyager);\n",
        "\n",
        "plt.show()"
      ],
      "execution_count": null,
      "outputs": []
    },
    {
      "cell_type": "code",
      "metadata": {},
      "source": [
        "polys = get_cluster_boundary(adbs.votes[\"lbls\"], listings_gdf_3857, crs=listings_gdf_3857.crs)"
      ],
      "execution_count": null,
      "outputs": []
    },
    {
      "cell_type": "code",
      "metadata": {},
      "source": [
        "ax = polys.plot(alpha=0.5, color=\"red\")\n",
        "cx.add_basemap(ax, crs=polys.crs.to_string(), source=cx.providers.CartoDB.Voyager);\n",
        "\n",
        "plt.show()"
      ],
      "execution_count": null,
      "outputs": []
    },
    {
      "cell_type": "markdown",
      "metadata": {},
      "source": [
        "The output is now very different, isn’t it? This exemplifies how different parameters can give rise to substantially different outcomes, even if the same data and algorithm are applied.\n",
        "\n",
        "\n",
        "<!--\n",
        "## Interpolation\n",
        "\n",
        "::: callout-warning\n",
        "Please keep in mind this final section of the tutorial is OPTIONAL, so do not feel forced to complete it. This will not be covered in the assignment and you will still be able to get a good mark without completing it (also, including any of the following in the assignment does NOT guarantee a better mark).\n",
        ":::\n",
        "\n",
        "Inverse Distance Weighting (IDW) is an interpolation technique where we assume that an outcome varies smoothly across space: the closer points are, the more likely they are to have the same outcome. To predict values across space, IDW uses neighbours values. There are two main variables: the number of neighbours to consider and the speed of the spatial decay. For example, if we were to model the likelihood of a household to shop at the neighbouring local groceries store, we would need to set a decay such as the probability would be close to 0 as we reach 15 minutes walking distance from home.\n",
        "\n",
        "The typical problem is a missing value problem: we observe a property of a phenomenon $Z(s)$ at a limited number of sample locations, and are interested in the property value at all locations covering an area of interest, so we have to predict it for unobserved locations. This is also called kriging, or Gaussian Process prediction.\n",
        "\n",
        "### Ordinary Kriging\n",
        "\n",
        "Two Python packages that can be used for kriging include `scikit-learn` and `pykrige`. The former package works best when the input data has a WGS 84 projection.\n",
        "\n",
        "-   [Python Open Source Spatial Programming & Remote Sensing](https://pygis.io/docs/e_interpolation.html)\n",
        "\n",
        "-->\n",
        "\n",
        "## Resources\n",
        "\n",
        "- [DBSCAN (Density-Based Spatial Clustering of Applications with Noise) Clearly Explained with Coding in Python](https://medium.com/@satpatishrimanta/clustering-by-dbscan-density-based-spatial-clustering-of-applications-with-noise-clearly-f93c5c72f706)\n",
        "\n",
        "- [Arribas-Bel et al., 2019](https://www.sciencedirect.com/science/article/pii/S0094119019300944)\n",
        "\n",
        "- [DBSCAN computes nearest neighbor graphs](https://www.reneshbedre.com/blog/dbscan-python.html#google_vignette?utm_content=cmp-true)\n",
        "\n",
        "-   [Point Pattern Analysis](https://geographicdata.science/book/notebooks/08_point_pattern_analysis.html)"
      ]
    }
  ],
  "metadata": {
    "kernelspec": {
      "name": "python3",
      "language": "python",
      "display_name": "Python 3 (ipykernel)"
    }
  },
  "nbformat": 4,
  "nbformat_minor": 4
}