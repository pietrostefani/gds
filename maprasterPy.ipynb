{
  "cells": [
    {
      "cell_type": "markdown",
      "metadata": {},
      "source": [
        "# Lab in Python {#sec-map-raster-Python .unnumbered}\n",
        "\n",
        "In this session, we will further explore the world of geographic data visualization by building upon our understanding of both raster data and choropleths. Raster data, consisting of gridded cells, allows us to represent continuous geographic phenomena such as temperature, elevation, or satellite imagery. Choropleths, on the other hand, are an effective way to visualize spatial patterns through the use of color-coded regions, making them invaluable for displaying discrete data like population density or election results. By combining these techniques, we will gain a comprehensive toolkit for conveying complex geographical information in a visually compelling manner.\n",
        "\n",
        "## Importing Modules\n"
      ],
      "id": "a5e9f943"
    },
    {
      "cell_type": "code",
      "metadata": {},
      "source": [
        "# Raster modules for python\n",
        "import rasterio\n",
        "from rasterio.warp import reproject, Resampling, calculate_default_transform\n",
        "from rasterio.mask import mask\n",
        "from rasterio.plot import show\n",
        "from rasterio import features\n",
        "\n",
        "from shapely.geometry import mapping\n",
        "\n",
        "import matplotlib.pyplot as plt\n",
        "import matplotlib.patches as mpatches\n",
        "from matplotlib.patches import Patch\n",
        "import matplotlib.colorbar as colorbar\n",
        "from matplotlib.colors import ListedColormap, BoundaryNorm\n",
        "\n",
        "import geopandas as gpd"
      ],
      "id": "0252fc41",
      "execution_count": null,
      "outputs": []
    },
    {
      "cell_type": "markdown",
      "metadata": {},
      "source": [
        "## Terrain data\n",
        "\n",
        "### **Import raster data**\n",
        "\n",
        "Raster **terrain** data consists of gridded elevation values that represent the topography of a geographic area. You can download this from the [relevant github folder](https://github.com/pietrostefani/gds/tree/main/data/Lebanon). A good place to download elevation data is [Earth Explorer](https://earthexplorer.usgs.gov/). This [video](https://www.youtube.com/watch?v=NQg0g9ObhXE) takes you through the download process if you want to try this out yourself.\n",
        "\n",
        "We first import a raster file for elevation.\n"
      ],
      "id": "70bc6325"
    },
    {
      "cell_type": "code",
      "metadata": {},
      "source": [
        "# Load the raster data\n",
        "elevation = rasterio.open(\"data/Lebanon/LBN_elevation_w_bathymetry.tif\")"
      ],
      "id": "faa2d4ee",
      "execution_count": null,
      "outputs": []
    },
    {
      "cell_type": "markdown",
      "metadata": {},
      "source": [
        "Plot it.\n"
      ],
      "id": "763eaaa9"
    },
    {
      "cell_type": "code",
      "metadata": {},
      "source": [
        "plt.figure(figsize=(10, 8))\n",
        "plt.imshow(elevation.read(1), cmap='viridis')\n",
        "plt.colorbar(label='Elevation')\n",
        "plt.title('Elevation with Bathymetry')\n",
        "plt.show()"
      ],
      "id": "ff14fbbb",
      "execution_count": null,
      "outputs": []
    },
    {
      "cell_type": "markdown",
      "metadata": {},
      "source": [
        "This information is typically accessed and updated via the .profile.\n"
      ],
      "id": "e8ed520b"
    },
    {
      "cell_type": "code",
      "metadata": {},
      "source": [
        "print(elevation.profile)"
      ],
      "id": "b4a45903",
      "execution_count": null,
      "outputs": []
    },
    {
      "cell_type": "markdown",
      "metadata": {},
      "source": [
        "Have a look at the CRS.\n"
      ],
      "id": "d368a1e4"
    },
    {
      "cell_type": "code",
      "metadata": {},
      "source": [
        "# Check the CRS of the raster\n",
        "crs = elevation.crs\n",
        "print(crs)"
      ],
      "id": "1f41cc44",
      "execution_count": null,
      "outputs": []
    },
    {
      "cell_type": "markdown",
      "metadata": {},
      "source": [
        "### **Import the Lebanon shapefile**\n",
        "\n",
        "Import the Lebanon shapefile, plot it, and verify its Coordinate Reference System (CRS). Is it the same as the raster's CRS?\n"
      ],
      "id": "61c6930a"
    },
    {
      "cell_type": "code",
      "metadata": {},
      "source": [
        "# Load the shapefile data\n",
        "Lebanon_adm1 = gpd.read_file(\"data/Lebanon/LBN_adm1.shp\")\n",
        "\n",
        "# Plot the geometry\n",
        "Lebanon_adm1.plot(edgecolor='grey', facecolor='none')\n",
        "plt.title('Lebanon Administrative Boundaries')\n",
        "plt.show()"
      ],
      "id": "08bf29b4",
      "execution_count": null,
      "outputs": []
    },
    {
      "cell_type": "code",
      "metadata": {},
      "source": [
        "# Check the CRS of the shapefile\n",
        "crs = Lebanon_adm1.crs\n",
        "print(crs)"
      ],
      "id": "df010be5",
      "execution_count": null,
      "outputs": []
    },
    {
      "cell_type": "markdown",
      "metadata": {},
      "source": [
        "### **Reproject the Raster**\n"
      ],
      "id": "4415da2b"
    },
    {
      "cell_type": "code",
      "metadata": {},
      "source": [
        "# Define the desired destination CRS\n",
        "dst_crs = \"EPSG:22770\"  # For example, WGS84\n",
        "\n",
        "# Calculate the transform matrix, width, and height for the output raster\n",
        "dst_transform, width, height = calculate_default_transform(\n",
        "    elevation.crs,  # source CRS from the raster\n",
        "    dst_crs,        # destination CRS\n",
        "    elevation.width,  # column count\n",
        "    elevation.height, # row count\n",
        "    *elevation.bounds  # outer boundaries (left, bottom, right, top)\n",
        ")\n",
        "\n",
        "# Print the source and destination transforms\n",
        "print(\"Source Transform:\\n\", elevation.transform, '\\n')\n",
        "print(\"Destination Transform:\\n\", dst_transform)\n",
        "\n",
        "# Define the metadata for the output raster\n",
        "dst_meta = elevation.meta.copy()\n",
        "dst_meta.update({\n",
        "    'crs': dst_crs,\n",
        "    'transform': dst_transform,\n",
        "    'width': width,\n",
        "    'height': height\n",
        "})\n",
        "\n",
        "# Reproject and write the output raster\n",
        "with rasterio.open(\"data/Lebanon/reprojected_elevation.tif\", \"w\", **dst_meta) as dst:\n",
        "    for i in range(1, elevation.count + 1):\n",
        "        reproject(\n",
        "            source=rasterio.band(elevation, i),\n",
        "            destination=rasterio.band(dst, i),\n",
        "            src_transform=elevation.transform,\n",
        "            src_crs=elevation.crs,\n",
        "            dst_transform=dst_transform,\n",
        "            dst_crs=dst_crs,\n",
        "            resampling=Resampling.nearest\n",
        "        )"
      ],
      "id": "1b75a047",
      "execution_count": null,
      "outputs": []
    },
    {
      "cell_type": "markdown",
      "metadata": {},
      "source": [
        "### **Cropping and Masking**\n",
        "\n",
        "**Cropping**:\n",
        "\n",
        "-   Purpose: Cropping a raster involves changing the extent of the raster dataset by specifying a new bounding box or geographic area of interest. The result is a new raster that covers only the specified region.\n",
        "\n",
        "-   Typical Use: Cropping is commonly used when you want to reduce the size of a raster dataset to focus on a smaller geographic area of interest while retaining all the original data values within that area.\n",
        "\n",
        "**Masking**:\n",
        "\n",
        "-   Purpose: Applying a binary mask to the dataset. The mask is typically a separate raster or polygon layer where certain areas are designated as \"masked\" (1) or \"unmasked\" (0).\n",
        "\n",
        "-   Typical Use: Masking is used when you want to extract or isolate specific areas or features within a raster dataset. For example, you might use a mask to extract land cover information within the boundaries of a protected national park.\n",
        "\n",
        "In many cases, these cropping and masking are executed one after the other because it is computationally easier to crop when dealing with large datasets, and then masking.\n"
      ],
      "id": "d51ca64c"
    },
    {
      "cell_type": "code",
      "metadata": {},
      "source": [
        "elevation_22770 = rasterio.open(\"data/Lebanon/reprojected_elevation.tif\")\n",
        "\n",
        "# Use unary_union method to combine the geometries\n",
        "lebanon_union = Lebanon_adm1.geometry.unary_union\n",
        "\n",
        "# Crop the elevation data to the extent of Lebanon\n",
        "elevation_lebanon, elevation_lebanon_transform = mask(elevation_22770, [mapping(lebanon_union)], crop=True)"
      ],
      "id": "50531dd7",
      "execution_count": null,
      "outputs": []
    },
    {
      "cell_type": "markdown",
      "metadata": {},
      "source": [
        "### **Plot elevation**\n"
      ],
      "id": "a15607d4"
    },
    {
      "cell_type": "code",
      "metadata": {},
      "source": [
        "# Assuming elevation_lebanon contains the cropped elevation data and Lebanon_adm1 is the GeoDataFrame\n",
        "fig, ax = plt.subplots(figsize=(10, 10))\n",
        "# Plot the elevation data\n",
        "show(elevation_lebanon, transform=elevation_lebanon_transform, ax=ax, cmap='terrain')\n",
        "# Plot the Lebanon boundaries on top, with no fill color\n",
        "Lebanon_adm1.boundary.plot(ax=ax, edgecolor='black')\n",
        "\n",
        "plt.show()"
      ],
      "id": "a9cd0ebf",
      "execution_count": null,
      "outputs": []
    },
    {
      "cell_type": "markdown",
      "metadata": {},
      "source": [
        "Let's improve this a bit. Remember that there is a lot we can do with [Cmap](https://www.analyticsvidhya.com/blog/2020/09/colormaps-matplotlib/#:~:text=Colormaps%20or%20Cmap%20in%20python%20colormaps%20is%20a%20very%20useful,custom%20ones%20using%20python%20colormaps).\n"
      ],
      "id": "0c5f4884"
    },
    {
      "cell_type": "code",
      "metadata": {},
      "source": [
        "# Define the reversed 6 shades of orange\n",
        "orange_shades_reversed = ['#ef3b2c', '#fb6a4a', '#fc9272', '#fcbba1', '#fee0d2', '#fff5eb']\n",
        "\n",
        "# Define the breaks\n",
        "boundaries = [-100, 0, 700, 1200, 1800, 3300]\n",
        "\n",
        "# Define the color map and normalization\n",
        "cmap = ListedColormap(orange_shades_reversed)\n",
        "norm = BoundaryNorm(boundaries=boundaries, ncolors=len(orange_shades_reversed))\n",
        "\n",
        "fig, ax = plt.subplots(figsize=(10, 10))\n",
        "\n",
        "# Plot the elevation data with the custom color map\n",
        "im = show(elevation_lebanon, transform=elevation_lebanon_transform, ax=ax, cmap=cmap, norm=norm)\n",
        "\n",
        "# Plot the Lebanon boundaries on top, with no fill color\n",
        "Lebanon_adm1.boundary.plot(ax=ax, edgecolor='black')\n",
        "\n",
        "# Remove the axes\n",
        "ax.axis('off')\n",
        "\n",
        "# Manually create a legend\n",
        "legend_labels = ['< 0 m', '0 - 700 m', '700 - 1200 m', '1200 - 1800 m', '1800 - 3300 m', '> 3300 m']\n",
        "legend_patches = [Patch(color=orange_shades_reversed[i], label=legend_labels[i]) for i in range(len(orange_shades_reversed))]\n",
        "\n",
        "# Add the legend to the right of the plot\n",
        "ax.legend(handles=legend_patches, loc='center left', bbox_to_anchor=(1, 0.5), title='Elevation (m)', frameon=False)\n",
        "\n",
        "\n",
        "plt.show()"
      ],
      "id": "3dee9f01",
      "execution_count": null,
      "outputs": []
    },
    {
      "cell_type": "markdown",
      "metadata": {},
      "source": [
        "Questions to ask yourself about how you can improve these maps, going back to [geo-visualisation and choropleths](https://pietrostefani.github.io/gds/mapvector.html).\n",
        "\n",
        "-   What are the logical breaks for elevation data?\n",
        "\n",
        "-   Should the colours be changed to standard elevation pallettes?\n",
        "\n",
        "### **Slope**\n",
        "\n",
        "We are now going to calculate slopes\n",
        "\n",
        "### **Flood risk area**\n",
        "\n",
        "We can employ reclassification techniques to delineate flood risk areas. Specifically, we identify and classify areas where the elevation is under 10 meters above sea level as high-risk zones. This critical step in flood risk assessment helps communities and decision-makers pinpoint vulnerable areas, enabling them to implement effective mitigation strategies and disaster preparedness plans to safeguard against potential flooding events.\n",
        "\n",
        "<!--\n",
        "problem installing osgeo and richdem in 3.11 python\n",
        "\n",
        "https://www.earthdatascience.org/tutorials/visualize-digital-elevation-model-contours-matplotlib/\n",
        "\n",
        "https://www.earthdatascience.org/tutorials/get-slope-aspect-from-digital-elevation-model/\n",
        "-->\n",
        "\n",
        "### **Spatial join with vector data**\n",
        "\n",
        "You might want to extract values from a raster data set, and then map them within a vector framework or extract them to analyse them statistically. If it therefore very useful to know how to extract:\n"
      ],
      "id": "b9cb3e36"
    },
    {
      "cell_type": "code",
      "metadata": {},
      "source": [
        "# Load some geo-localized survey data\n",
        "households = gpd.read_file(\"data/Lebanon/random_survey_LBN.shp\")\n",
        "\n",
        "# Open the elevation raster file\n",
        "with rasterio.open(\"data/Lebanon/LBN_elevation_w_bathymetry.tif\") as src:\n",
        "    # Reproject households coordinates to the CRS of the raster\n",
        "    households = households.to_crs(src.crs)\n",
        "    \n",
        "    # Extract elevation values at the coordinates of the points\n",
        "    housesales_elevation = [\n",
        "        val[0] if val is not None else None\n",
        "        for val in src.sample([(geom.x, geom.y) for geom in households.geometry])\n",
        "    ]\n",
        "\n",
        "# Attach elevation at each point to the original households GeoDataFrame\n",
        "households['elevation'] = housesales_elevation\n",
        "\n",
        "# Check out the data\n",
        "print(households.head())"
      ],
      "id": "bce9fedb",
      "execution_count": null,
      "outputs": []
    },
    {
      "cell_type": "markdown",
      "metadata": {},
      "source": [
        "- *Handling CRS (Coordinate Reference System)*: The household data CRS is transformed to match the raster’s CRS before extracting elevation values.\n",
        "- *Extracting Elevation*: Elevation values are extracted at each household location using rasterio’s sample method.\n",
        "- *Attaching Elevation Data*: The elevation data is added as a new column to the households `GeoDataFrame`.\n",
        "\t\n",
        "::: callout-important\n",
        "Make sure all your data is in the same CRS, otherwise the `rasterio`’s sample will not work properly.\n",
        ":::\n",
        "\n",
        "## Night Lights\n",
        "\n",
        "This section is a bit more advanced, there are hints along the way to make it simpler.\n",
        "\n",
        "### **Download data**\n",
        "\n",
        "::: {.callout-note title=\"Download the Data\"}\n",
        "\n",
        "We need to download some raster data. NOAA has made nighttime lights data available for 1992 to 2013. It is called the Version 4 DMSP-OLS Nighttime Lights Time Series. The files are cloud-free composites made using all the available archived DMSP-OLS smooth resolution data for calendar years. In cases where two satellites were collecting data - two composites were produced. The products are 30 arc-second grids, spanning -180 to 180 degrees longitude and -65 to 75 degrees latitude. We can download the [Average, Visible, Stable Lights, & Cloud Free Coverages for 1992 and 2013](https://www.ngdc.noaa.gov/eog/data/web_data/v4composites/) and put them in the `data/Kenya_Tanzania` folder.\n",
        "\n",
        "::: \n",
        "\n",
        "::: callout-important\n",
        "You can also download the data [here](https://theuniversityofliverpool-my.sharepoint.com/:u:/g/personal/pietrost_liverpool_ac_uk/EX85foAh7ZBBtSZ64pxbFmsBStf8UX2uaLXE5MBYJt6PeQ?e=LMYu7d). You will need to be logged into your UoL account.\n",
        "\n",
        "The downloaded files are going to be in a **\"TAR\" format**. A TAR file is an archive created by tar, a Unix-based utility used to package files together for backup or distribution purposes. It contains multiple files stored in an uncompressed format along with metadata about the archive. Tars files are also used to reduce files' size. TAR archives compressed with GNU Zip compression may become GZ, .TAR.GZ, or .TGZ files. We need to decompress them before using them.\n",
        ":::\n",
        "\n",
        "Before you move forward **download the data for 1992 and 2013.** It is also good practice to create a scratch folder where you do all your unzipping.\n"
      ],
      "id": "5fc023e6"
    },
    {
      "cell_type": "code",
      "metadata": {},
      "source": [
        "def load_raster(filename):\n",
        "    \"\"\"Load a raster file and return the data as a numpy array.\"\"\"\n",
        "    with rasterio.open(filename) as src:\n",
        "        data = src.read(1)  # Read the first band\n",
        "        profile = src.profile  # Save the profile for later use\n",
        "    return data, profile\n",
        "\n",
        "def stack_rasters(*rasters):\n",
        "    \"\"\"Stack multiple raster arrays into a single 3D numpy array.\"\"\"\n",
        "    return np.stack(rasters, axis=-1)\n",
        "\n",
        "def plot_raster(data, title='Raster Data'):\n",
        "    \"\"\"Plot a single raster array.\"\"\"\n",
        "    plt.figure(figsize=(10, 6))\n",
        "    plt.imshow(data, cmap='viridis', interpolation='none')\n",
        "    plt.colorbar()\n",
        "    plt.title(title)\n",
        "    plt.show()\n",
        "\n",
        "# File paths to your raster TIFF files\n",
        "file1 = 'nighttime_lights_1.tif'\n",
        "file2 = 'nighttime_lights_2.tif'\n",
        "\n",
        "# Load the rasters\n",
        "data1, profile1 = load_raster(file1)\n",
        "data2, profile2 = load_raster(file2)\n",
        "\n",
        "# Stack the rasters\n",
        "stacked_data = stack_rasters(data1, data2)"
      ],
      "id": "32bf3c6f",
      "execution_count": null,
      "outputs": []
    },
    {
      "cell_type": "markdown",
      "metadata": {},
      "source": [
        "We can load and plot the nighttime lights data. When working with many rasters of the same origin, it is usually faster to stack them together for faster processing.\n"
      ],
      "id": "4b950a4c"
    },
    {
      "cell_type": "code",
      "metadata": {},
      "source": [
        "# Plot the first raster\n",
        "plot_raster(data1, title='Nighttime Lights - File 1')\n",
        "\n",
        "# Plot the second raster\n",
        "plot_raster(data2, title='Nighttime Lights - File 2')\n",
        "\n",
        "# Plot the stacked rasters (showing all bands together)\n",
        "plt.figure(figsize=(10, 6))\n",
        "plt.imshow(np.mean(stacked_data, axis=-1), cmap='viridis', interpolation='none')\n",
        "plt.colorbar()\n",
        "plt.title('Stacked Nighttime Lights Data (Mean of All Bands)')\n",
        "plt.show()"
      ],
      "id": "709f6195",
      "execution_count": null,
      "outputs": []
    },
    {
      "cell_type": "markdown",
      "metadata": {},
      "source": [
        "### **Country shapefiles**\n",
        "\n",
        "### **Zonal statistics**\n",
        "\n",
        "### **Merge Shapefiles**\n",
        "\n",
        "### **Visualize**\n",
        "\n",
        "\n",
        "## Resources\n",
        "\n",
        "-   [Python Open Source Spatial Programming & Remote Sensing](https://pygis.io/docs/e_interpolation.html)\n",
        "\n",
        "- [Remote Sensing with Python](https://worldbank.github.io/OpenNightLights/welcome.html)\n",
        "\n",
        "- [Black Marble in Python](https://blogs.worldbank.org/en/opendata/illuminating-insights-harnessing-nasas-black-marble-r-and-python-packages)"
      ],
      "id": "3500b135"
    }
  ],
  "metadata": {
    "kernelspec": {
      "name": "python3",
      "language": "python",
      "display_name": "Python 3 (ipykernel)"
    }
  },
  "nbformat": 4,
  "nbformat_minor": 5
}